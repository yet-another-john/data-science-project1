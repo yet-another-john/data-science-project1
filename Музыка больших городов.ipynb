{
 "cells": [
  {
   "cell_type": "markdown",
   "metadata": {
    "deletable": false,
    "editable": false,
    "id": "E0vqbgi9ay0H"
   },
   "source": [
    "# Яндекс Музыка"
   ]
  },
  {
   "cell_type": "markdown",
   "metadata": {
    "deletable": false,
    "editable": false,
    "id": "VUC88oWjTJw2"
   },
   "source": [
    "Сравнение Москвы и Петербурга окружено мифами. Например:\n",
    " * Москва — мегаполис, подчинённый жёсткому ритму рабочей недели;\n",
    " * Петербург — культурная столица, со своими вкусами.\n",
    "\n",
    "На данных Яндекс Музыки вы сравните поведение пользователей двух столиц.\n",
    "\n",
    "**Цель исследования** — проверьте три гипотезы:\n",
    "1. Активность пользователей зависит от дня недели. Причём в Москве и Петербурге это проявляется по-разному.\n",
    "2. В понедельник утром в Москве преобладают одни жанры, а в Петербурге — другие. Так же и вечером пятницы преобладают разные жанры — в зависимости от города.\n",
    "3. Москва и Петербург предпочитают разные жанры музыки. В Москве чаще слушают поп-музыку, в Петербурге — русский рэп.\n",
    "\n",
    "**Ход исследования**\n",
    "\n",
    "Данные о поведении пользователей вы получите из файла `yandex_music_project.csv`. О качестве данных ничего не известно. Поэтому перед проверкой гипотез понадобится обзор данных.\n",
    "\n",
    "Вы проверите данные на ошибки и оцените их влияние на исследование. Затем, на этапе предобработки вы поищете возможность исправить самые критичные ошибки данных.\n",
    "\n",
    "Таким образом, исследование пройдёт в три этапа:\n",
    " 1. Обзор данных.\n",
    " 2. Предобработка данных.\n",
    " 3. Проверка гипотез.\n",
    "\n"
   ]
  },
  {
   "cell_type": "markdown",
   "metadata": {
    "deletable": false,
    "editable": false,
    "id": "Ml1hmfXC_Zcs"
   },
   "source": [
    "## Обзор данных\n",
    "\n",
    "Составьте первое представление о данных Яндекс Музыки.\n",
    "\n",
    "\n"
   ]
  },
  {
   "cell_type": "markdown",
   "metadata": {
    "deletable": false,
    "editable": false,
    "id": "57eAOGIz_Zcs",
    "tags": [
     "start_task"
    ]
   },
   "source": [
    "**Задание 1**"
   ]
  },
  {
   "cell_type": "code",
   "execution_count": 1,
   "metadata": {
    "deletable": false,
    "id": "AXN7PHPN_Zcs"
   },
   "outputs": [],
   "source": [
    "# импорт библиотеки pandas\n",
    "import pandas as pd"
   ]
  },
  {
   "cell_type": "markdown",
   "metadata": {
    "deletable": false,
    "editable": false,
    "id": "SG23P8tt_Zcs",
    "tags": [
     "start_task"
    ]
   },
   "source": [
    "**Задание 2**"
   ]
  },
  {
   "cell_type": "code",
   "execution_count": 2,
   "metadata": {
    "deletable": false,
    "id": "fFVu7vqh_Zct"
   },
   "outputs": [],
   "source": [
    "# чтение файла с данными и сохранение в df\n",
    "df = pd.read_csv('/datasets/yandex_music_project.csv')"
   ]
  },
  {
   "cell_type": "markdown",
   "metadata": {
    "deletable": false,
    "editable": false,
    "id": "rDoOMd3uTqnZ",
    "tags": [
     "start_task"
    ]
   },
   "source": [
    "**Задание 3**"
   ]
  },
  {
   "cell_type": "code",
   "execution_count": 3,
   "metadata": {
    "deletable": false,
    "id": "oWTVX3gW_Zct"
   },
   "outputs": [
    {
     "data": {
      "text/html": [
       "<div>\n",
       "<style scoped>\n",
       "    .dataframe tbody tr th:only-of-type {\n",
       "        vertical-align: middle;\n",
       "    }\n",
       "\n",
       "    .dataframe tbody tr th {\n",
       "        vertical-align: top;\n",
       "    }\n",
       "\n",
       "    .dataframe thead th {\n",
       "        text-align: right;\n",
       "    }\n",
       "</style>\n",
       "<table border=\"1\" class=\"dataframe\">\n",
       "  <thead>\n",
       "    <tr style=\"text-align: right;\">\n",
       "      <th></th>\n",
       "      <th>userID</th>\n",
       "      <th>Track</th>\n",
       "      <th>artist</th>\n",
       "      <th>genre</th>\n",
       "      <th>City</th>\n",
       "      <th>time</th>\n",
       "      <th>Day</th>\n",
       "    </tr>\n",
       "  </thead>\n",
       "  <tbody>\n",
       "    <tr>\n",
       "      <th>0</th>\n",
       "      <td>FFB692EC</td>\n",
       "      <td>Kamigata To Boots</td>\n",
       "      <td>The Mass Missile</td>\n",
       "      <td>rock</td>\n",
       "      <td>Saint-Petersburg</td>\n",
       "      <td>20:28:33</td>\n",
       "      <td>Wednesday</td>\n",
       "    </tr>\n",
       "    <tr>\n",
       "      <th>1</th>\n",
       "      <td>55204538</td>\n",
       "      <td>Delayed Because of Accident</td>\n",
       "      <td>Andreas Rönnberg</td>\n",
       "      <td>rock</td>\n",
       "      <td>Moscow</td>\n",
       "      <td>14:07:09</td>\n",
       "      <td>Friday</td>\n",
       "    </tr>\n",
       "    <tr>\n",
       "      <th>2</th>\n",
       "      <td>20EC38</td>\n",
       "      <td>Funiculì funiculà</td>\n",
       "      <td>Mario Lanza</td>\n",
       "      <td>pop</td>\n",
       "      <td>Saint-Petersburg</td>\n",
       "      <td>20:58:07</td>\n",
       "      <td>Wednesday</td>\n",
       "    </tr>\n",
       "    <tr>\n",
       "      <th>3</th>\n",
       "      <td>A3DD03C9</td>\n",
       "      <td>Dragons in the Sunset</td>\n",
       "      <td>Fire + Ice</td>\n",
       "      <td>folk</td>\n",
       "      <td>Saint-Petersburg</td>\n",
       "      <td>08:37:09</td>\n",
       "      <td>Monday</td>\n",
       "    </tr>\n",
       "    <tr>\n",
       "      <th>4</th>\n",
       "      <td>E2DC1FAE</td>\n",
       "      <td>Soul People</td>\n",
       "      <td>Space Echo</td>\n",
       "      <td>dance</td>\n",
       "      <td>Moscow</td>\n",
       "      <td>08:34:34</td>\n",
       "      <td>Monday</td>\n",
       "    </tr>\n",
       "    <tr>\n",
       "      <th>5</th>\n",
       "      <td>842029A1</td>\n",
       "      <td>Преданная</td>\n",
       "      <td>IMPERVTOR</td>\n",
       "      <td>rusrap</td>\n",
       "      <td>Saint-Petersburg</td>\n",
       "      <td>13:09:41</td>\n",
       "      <td>Friday</td>\n",
       "    </tr>\n",
       "    <tr>\n",
       "      <th>6</th>\n",
       "      <td>4CB90AA5</td>\n",
       "      <td>True</td>\n",
       "      <td>Roman Messer</td>\n",
       "      <td>dance</td>\n",
       "      <td>Moscow</td>\n",
       "      <td>13:00:07</td>\n",
       "      <td>Wednesday</td>\n",
       "    </tr>\n",
       "    <tr>\n",
       "      <th>7</th>\n",
       "      <td>F03E1C1F</td>\n",
       "      <td>Feeling This Way</td>\n",
       "      <td>Polina Griffith</td>\n",
       "      <td>dance</td>\n",
       "      <td>Moscow</td>\n",
       "      <td>20:47:49</td>\n",
       "      <td>Wednesday</td>\n",
       "    </tr>\n",
       "    <tr>\n",
       "      <th>8</th>\n",
       "      <td>8FA1D3BE</td>\n",
       "      <td>И вновь продолжается бой</td>\n",
       "      <td>NaN</td>\n",
       "      <td>ruspop</td>\n",
       "      <td>Moscow</td>\n",
       "      <td>09:17:40</td>\n",
       "      <td>Friday</td>\n",
       "    </tr>\n",
       "    <tr>\n",
       "      <th>9</th>\n",
       "      <td>E772D5C0</td>\n",
       "      <td>Pessimist</td>\n",
       "      <td>NaN</td>\n",
       "      <td>dance</td>\n",
       "      <td>Saint-Petersburg</td>\n",
       "      <td>21:20:49</td>\n",
       "      <td>Wednesday</td>\n",
       "    </tr>\n",
       "  </tbody>\n",
       "</table>\n",
       "</div>"
      ],
      "text/plain": [
       "     userID                        Track            artist   genre  \\\n",
       "0  FFB692EC            Kamigata To Boots  The Mass Missile    rock   \n",
       "1  55204538  Delayed Because of Accident  Andreas Rönnberg    rock   \n",
       "2    20EC38            Funiculì funiculà       Mario Lanza     pop   \n",
       "3  A3DD03C9        Dragons in the Sunset        Fire + Ice    folk   \n",
       "4  E2DC1FAE                  Soul People        Space Echo   dance   \n",
       "5  842029A1                    Преданная         IMPERVTOR  rusrap   \n",
       "6  4CB90AA5                         True      Roman Messer   dance   \n",
       "7  F03E1C1F             Feeling This Way   Polina Griffith   dance   \n",
       "8  8FA1D3BE     И вновь продолжается бой               NaN  ruspop   \n",
       "9  E772D5C0                    Pessimist               NaN   dance   \n",
       "\n",
       "             City        time        Day  \n",
       "0  Saint-Petersburg  20:28:33  Wednesday  \n",
       "1            Moscow  14:07:09     Friday  \n",
       "2  Saint-Petersburg  20:58:07  Wednesday  \n",
       "3  Saint-Petersburg  08:37:09     Monday  \n",
       "4            Moscow  08:34:34     Monday  \n",
       "5  Saint-Petersburg  13:09:41     Friday  \n",
       "6            Moscow  13:00:07  Wednesday  \n",
       "7            Moscow  20:47:49  Wednesday  \n",
       "8            Moscow  09:17:40     Friday  \n",
       "9  Saint-Petersburg  21:20:49  Wednesday  "
      ]
     },
     "execution_count": 3,
     "metadata": {},
     "output_type": "execute_result"
    }
   ],
   "source": [
    "# получение первых 10 строк таблицы df\n",
    "df.head(10)"
   ]
  },
  {
   "cell_type": "markdown",
   "metadata": {
    "deletable": false,
    "editable": false,
    "id": "EO73Kwic_Zct",
    "tags": [
     "start_task"
    ]
   },
   "source": [
    "**Задание 4**"
   ]
  },
  {
   "cell_type": "code",
   "execution_count": 4,
   "metadata": {
    "deletable": false,
    "id": "DSf2kIb-_Zct"
   },
   "outputs": [
    {
     "name": "stdout",
     "output_type": "stream",
     "text": [
      "<class 'pandas.core.frame.DataFrame'>\n",
      "RangeIndex: 65079 entries, 0 to 65078\n",
      "Data columns (total 7 columns):\n",
      " #   Column    Non-Null Count  Dtype \n",
      "---  ------    --------------  ----- \n",
      " 0     userID  65079 non-null  object\n",
      " 1   Track     63848 non-null  object\n",
      " 2   artist    57876 non-null  object\n",
      " 3   genre     63881 non-null  object\n",
      " 4     City    65079 non-null  object\n",
      " 5   time      65079 non-null  object\n",
      " 6   Day       65079 non-null  object\n",
      "dtypes: object(7)\n",
      "memory usage: 3.5+ MB\n"
     ]
    }
   ],
   "source": [
    "# получение общей информации о данных в таблице df\n",
    "df.info()"
   ]
  },
  {
   "cell_type": "markdown",
   "metadata": {
    "deletable": false,
    "editable": false,
    "id": "TaQ2Iwbr_Zct"
   },
   "source": [
    "Количество значений в столбцах различается. Значит, в данных есть пропущенные значения."
   ]
  },
  {
   "cell_type": "markdown",
   "metadata": {
    "deletable": false,
    "editable": false,
    "id": "4P0UCWzswgEm",
    "tags": [
     "start_task"
    ]
   },
   "source": [
    "**Задание 5**"
   ]
  },
  {
   "cell_type": "code",
   "execution_count": 5,
   "metadata": {
    "id": "c137-ZstwgEm"
   },
   "outputs": [],
   "source": [
    "# Напишите ваш ответ здесь комментарием. Не удаляйте символ #. Не меняйте тип этой ячейки на Markdown."
   ]
  },
  {
   "cell_type": "markdown",
   "metadata": {
    "deletable": false,
    "editable": false,
    "id": "MCB6-dXG_Zct"
   },
   "source": [
    "**Выводы**\n",
    "\n",
    "В каждой строке таблицы — данные о прослушанном треке. Часть колонок описывает саму композицию: название, исполнителя и жанр. Остальные данные рассказывают о пользователе: из какого он города, когда он слушал музыку.\n",
    "\n",
    "Предварительно можно утверждать, что данных достаточно для проверки гипотез. Но встречаются пропуски в данных, а в названиях колонок — расхождения с хорошим стилем.\n",
    "\n",
    "Чтобы двигаться дальше, нужно устранить проблемы в данных."
   ]
  },
  {
   "cell_type": "markdown",
   "metadata": {
    "deletable": false,
    "editable": false,
    "id": "SjYF6Ub9_Zct"
   },
   "source": [
    "## Предобработка данных"
   ]
  },
  {
   "cell_type": "markdown",
   "metadata": {
    "deletable": false,
    "editable": false,
    "id": "dIaKXr29_Zct",
    "tags": [
     "start_task"
    ]
   },
   "source": [
    "### Переименование столбцов\n",
    "\n",
    "**Задание 6**"
   ]
  },
  {
   "cell_type": "code",
   "execution_count": 6,
   "metadata": {
    "deletable": false,
    "id": "oKOTdF_Q_Zct"
   },
   "outputs": [
    {
     "data": {
      "text/plain": [
       "Index(['  userID', 'Track', 'artist', 'genre', '  City  ', 'time', 'Day'], dtype='object')"
      ]
     },
     "execution_count": 6,
     "metadata": {},
     "output_type": "execute_result"
    }
   ],
   "source": [
    "# перечень названий столбцов таблицы df\n",
    "df.columns"
   ]
  },
  {
   "cell_type": "markdown",
   "metadata": {
    "deletable": false,
    "editable": false,
    "id": "zj5534cv_Zct",
    "tags": [
     "start_task"
    ]
   },
   "source": [
    "**Задание 7**"
   ]
  },
  {
   "cell_type": "code",
   "execution_count": 7,
   "metadata": {
    "deletable": false,
    "id": "ISlFqs5y_Zct"
   },
   "outputs": [],
   "source": [
    "# переименование столбцов\n",
    "df = df.rename(columns={'  userID': 'user_id', 'Track': 'track', '  City  ': 'city', 'Day': 'day'})"
   ]
  },
  {
   "cell_type": "markdown",
   "metadata": {
    "deletable": false,
    "editable": false,
    "id": "1dqbh00J_Zct",
    "tags": [
     "start_task"
    ]
   },
   "source": [
    "**Задание 8**"
   ]
  },
  {
   "cell_type": "code",
   "execution_count": 8,
   "metadata": {
    "deletable": false,
    "id": "d4NOAmTW_Zct"
   },
   "outputs": [
    {
     "data": {
      "text/plain": [
       "Index(['user_id', 'track', 'artist', 'genre', 'city', 'time', 'day'], dtype='object')"
      ]
     },
     "execution_count": 8,
     "metadata": {},
     "output_type": "execute_result"
    }
   ],
   "source": [
    "# проверка результатов - перечень названий столбцов\n",
    "df.columns"
   ]
  },
  {
   "cell_type": "markdown",
   "metadata": {
    "deletable": false,
    "editable": false,
    "id": "5ISfbcfY_Zct",
    "tags": [
     "start_task"
    ]
   },
   "source": [
    "### Обработка пропущенных значений\n",
    "\n",
    "**Задание 9**"
   ]
  },
  {
   "cell_type": "code",
   "execution_count": 9,
   "metadata": {
    "deletable": false,
    "id": "RskX29qr_Zct"
   },
   "outputs": [
    {
     "data": {
      "text/plain": [
       "user_id       0\n",
       "track      1231\n",
       "artist     7203\n",
       "genre      1198\n",
       "city          0\n",
       "time          0\n",
       "day           0\n",
       "dtype: int64"
      ]
     },
     "execution_count": 9,
     "metadata": {},
     "output_type": "execute_result"
    }
   ],
   "source": [
    "# подсчёт пропусков\n",
    "df.isna().sum()"
   ]
  },
  {
   "cell_type": "markdown",
   "metadata": {
    "deletable": false,
    "editable": false,
    "id": "fSv2laPA_Zct",
    "tags": [
     "start_task"
    ]
   },
   "source": [
    "**Задание 10**"
   ]
  },
  {
   "cell_type": "code",
   "execution_count": 10,
   "metadata": {
    "deletable": false,
    "id": "KplB5qWs_Zct"
   },
   "outputs": [],
   "source": [
    "# замена пропущенных значений на 'unknown'\n",
    "df['track'] = df['track'].fillna('unknown')\n",
    "df['artist'] = df['artist'].fillna('unknown')\n",
    "df['genre'] = df['genre'].fillna('unknown')"
   ]
  },
  {
   "cell_type": "markdown",
   "metadata": {
    "deletable": false,
    "editable": false,
    "id": "Ilsm-MZo_Zct",
    "tags": [
     "start_task"
    ]
   },
   "source": [
    "**Задание 11**"
   ]
  },
  {
   "cell_type": "code",
   "execution_count": 11,
   "metadata": {
    "deletable": false,
    "id": "Tq4nYRX4_Zct"
   },
   "outputs": [
    {
     "data": {
      "text/plain": [
       "user_id    0\n",
       "track      0\n",
       "artist     0\n",
       "genre      0\n",
       "city       0\n",
       "time       0\n",
       "day        0\n",
       "dtype: int64"
      ]
     },
     "execution_count": 11,
     "metadata": {},
     "output_type": "execute_result"
    }
   ],
   "source": [
    "# проверка на отсутствие пропусков\n",
    "df.isna().sum()"
   ]
  },
  {
   "cell_type": "markdown",
   "metadata": {
    "deletable": false,
    "editable": false,
    "id": "BWKRtBJ3_Zct",
    "tags": [
     "start_task"
    ]
   },
   "source": [
    "### Обработка дубликатов\n",
    "\n",
    "**Задание 12**"
   ]
  },
  {
   "cell_type": "code",
   "execution_count": 12,
   "metadata": {
    "deletable": false,
    "id": "36eES_S0_Zct"
   },
   "outputs": [
    {
     "data": {
      "text/plain": [
       "3826"
      ]
     },
     "execution_count": 12,
     "metadata": {},
     "output_type": "execute_result"
    }
   ],
   "source": [
    "# подсчёт явных дубликатов\n",
    "df.duplicated().sum()"
   ]
  },
  {
   "cell_type": "markdown",
   "metadata": {
    "deletable": false,
    "editable": false,
    "id": "Ot25h6XR_Zct",
    "tags": [
     "start_task"
    ]
   },
   "source": [
    "**Задание 13**"
   ]
  },
  {
   "cell_type": "code",
   "execution_count": 13,
   "metadata": {
    "deletable": false,
    "id": "exFHq6tt_Zct"
   },
   "outputs": [],
   "source": [
    "# удаление явных дубликатов, создание новых индексов и удаление старых\n",
    "df = df.drop_duplicates().reset_index(drop=True)"
   ]
  },
  {
   "cell_type": "markdown",
   "metadata": {
    "deletable": false,
    "editable": false,
    "id": "Im2YwBEG_Zct",
    "tags": [
     "start_task"
    ]
   },
   "source": [
    "**Задание 14**"
   ]
  },
  {
   "cell_type": "code",
   "execution_count": 14,
   "metadata": {
    "deletable": false,
    "id": "-8PuNWQ0_Zct"
   },
   "outputs": [
    {
     "data": {
      "text/plain": [
       "0"
      ]
     },
     "execution_count": 14,
     "metadata": {},
     "output_type": "execute_result"
    }
   ],
   "source": [
    "# проверка на отсутствие явных дубликатов\n",
    "df.duplicated().sum()"
   ]
  },
  {
   "cell_type": "markdown",
   "metadata": {
    "deletable": false,
    "editable": false,
    "id": "eSjWwsOh_Zct",
    "tags": [
     "start_task"
    ]
   },
   "source": [
    "**Задание 15**"
   ]
  },
  {
   "cell_type": "code",
   "execution_count": 15,
   "metadata": {
    "deletable": false,
    "id": "JIUcqzZN_Zct"
   },
   "outputs": [
    {
     "data": {
      "text/plain": [
       "['acid',\n",
       " 'acoustic',\n",
       " 'action',\n",
       " 'adult',\n",
       " 'africa',\n",
       " 'afrikaans',\n",
       " 'alternative',\n",
       " 'alternativepunk',\n",
       " 'ambient',\n",
       " 'americana',\n",
       " 'animated',\n",
       " 'anime',\n",
       " 'arabesk',\n",
       " 'arabic',\n",
       " 'arena',\n",
       " 'argentinetango',\n",
       " 'art',\n",
       " 'audiobook',\n",
       " 'author',\n",
       " 'avantgarde',\n",
       " 'axé',\n",
       " 'baile',\n",
       " 'balkan',\n",
       " 'beats',\n",
       " 'bigroom',\n",
       " 'black',\n",
       " 'bluegrass',\n",
       " 'blues',\n",
       " 'bollywood',\n",
       " 'bossa',\n",
       " 'brazilian',\n",
       " 'breakbeat',\n",
       " 'breaks',\n",
       " 'broadway',\n",
       " 'cantautori',\n",
       " 'cantopop',\n",
       " 'canzone',\n",
       " 'caribbean',\n",
       " 'caucasian',\n",
       " 'celtic',\n",
       " 'chamber',\n",
       " 'chanson',\n",
       " 'children',\n",
       " 'chill',\n",
       " 'chinese',\n",
       " 'choral',\n",
       " 'christian',\n",
       " 'christmas',\n",
       " 'classical',\n",
       " 'classicmetal',\n",
       " 'club',\n",
       " 'colombian',\n",
       " 'comedy',\n",
       " 'conjazz',\n",
       " 'contemporary',\n",
       " 'country',\n",
       " 'cuban',\n",
       " 'dance',\n",
       " 'dancehall',\n",
       " 'dancepop',\n",
       " 'dark',\n",
       " 'death',\n",
       " 'deep',\n",
       " 'deutschrock',\n",
       " 'deutschspr',\n",
       " 'dirty',\n",
       " 'disco',\n",
       " 'dnb',\n",
       " 'documentary',\n",
       " 'downbeat',\n",
       " 'downtempo',\n",
       " 'drum',\n",
       " 'dub',\n",
       " 'dubstep',\n",
       " 'eastern',\n",
       " 'easy',\n",
       " 'electronic',\n",
       " 'electropop',\n",
       " 'emo',\n",
       " 'entehno',\n",
       " 'epicmetal',\n",
       " 'estrada',\n",
       " 'ethnic',\n",
       " 'eurofolk',\n",
       " 'european',\n",
       " 'experimental',\n",
       " 'extrememetal',\n",
       " 'fado',\n",
       " 'fairytail',\n",
       " 'film',\n",
       " 'fitness',\n",
       " 'flamenco',\n",
       " 'folk',\n",
       " 'folklore',\n",
       " 'folkmetal',\n",
       " 'folkrock',\n",
       " 'folktronica',\n",
       " 'forró',\n",
       " 'frankreich',\n",
       " 'französisch',\n",
       " 'french',\n",
       " 'funk',\n",
       " 'future',\n",
       " 'gangsta',\n",
       " 'garage',\n",
       " 'german',\n",
       " 'ghazal',\n",
       " 'gitarre',\n",
       " 'glitch',\n",
       " 'gospel',\n",
       " 'gothic',\n",
       " 'grime',\n",
       " 'grunge',\n",
       " 'gypsy',\n",
       " 'handsup',\n",
       " \"hard'n'heavy\",\n",
       " 'hardcore',\n",
       " 'hardstyle',\n",
       " 'hardtechno',\n",
       " 'hip',\n",
       " 'hip-hop',\n",
       " 'hiphop',\n",
       " 'historisch',\n",
       " 'holiday',\n",
       " 'hop',\n",
       " 'horror',\n",
       " 'house',\n",
       " 'hymn',\n",
       " 'idm',\n",
       " 'independent',\n",
       " 'indian',\n",
       " 'indie',\n",
       " 'indipop',\n",
       " 'industrial',\n",
       " 'inspirational',\n",
       " 'instrumental',\n",
       " 'international',\n",
       " 'irish',\n",
       " 'jam',\n",
       " 'japanese',\n",
       " 'jazz',\n",
       " 'jewish',\n",
       " 'jpop',\n",
       " 'jungle',\n",
       " 'k-pop',\n",
       " 'karadeniz',\n",
       " 'karaoke',\n",
       " 'kayokyoku',\n",
       " 'korean',\n",
       " 'laiko',\n",
       " 'latin',\n",
       " 'latino',\n",
       " 'leftfield',\n",
       " 'local',\n",
       " 'lounge',\n",
       " 'loungeelectronic',\n",
       " 'lovers',\n",
       " 'malaysian',\n",
       " 'mandopop',\n",
       " 'marschmusik',\n",
       " 'meditative',\n",
       " 'mediterranean',\n",
       " 'melodic',\n",
       " 'metal',\n",
       " 'metalcore',\n",
       " 'mexican',\n",
       " 'middle',\n",
       " 'minimal',\n",
       " 'miscellaneous',\n",
       " 'modern',\n",
       " 'mood',\n",
       " 'mpb',\n",
       " 'muslim',\n",
       " 'native',\n",
       " 'neoklassik',\n",
       " 'neue',\n",
       " 'new',\n",
       " 'newage',\n",
       " 'newwave',\n",
       " 'nu',\n",
       " 'nujazz',\n",
       " 'numetal',\n",
       " 'oceania',\n",
       " 'old',\n",
       " 'opera',\n",
       " 'orchestral',\n",
       " 'other',\n",
       " 'piano',\n",
       " 'podcasts',\n",
       " 'pop',\n",
       " 'popdance',\n",
       " 'popelectronic',\n",
       " 'popeurodance',\n",
       " 'poprussian',\n",
       " 'post',\n",
       " 'posthardcore',\n",
       " 'postrock',\n",
       " 'power',\n",
       " 'progmetal',\n",
       " 'progressive',\n",
       " 'psychedelic',\n",
       " 'punjabi',\n",
       " 'punk',\n",
       " 'quebecois',\n",
       " 'ragga',\n",
       " 'ram',\n",
       " 'rancheras',\n",
       " 'rap',\n",
       " 'rave',\n",
       " 'reggae',\n",
       " 'reggaeton',\n",
       " 'regional',\n",
       " 'relax',\n",
       " 'religious',\n",
       " 'retro',\n",
       " 'rhythm',\n",
       " 'rnb',\n",
       " 'rnr',\n",
       " 'rock',\n",
       " 'rockabilly',\n",
       " 'rockalternative',\n",
       " 'rockindie',\n",
       " 'rockother',\n",
       " 'romance',\n",
       " 'roots',\n",
       " 'ruspop',\n",
       " 'rusrap',\n",
       " 'rusrock',\n",
       " 'russian',\n",
       " 'salsa',\n",
       " 'samba',\n",
       " 'scenic',\n",
       " 'schlager',\n",
       " 'self',\n",
       " 'sertanejo',\n",
       " 'shanson',\n",
       " 'shoegazing',\n",
       " 'showtunes',\n",
       " 'singer',\n",
       " 'ska',\n",
       " 'skarock',\n",
       " 'slow',\n",
       " 'smooth',\n",
       " 'soft',\n",
       " 'soul',\n",
       " 'soulful',\n",
       " 'sound',\n",
       " 'soundtrack',\n",
       " 'southern',\n",
       " 'specialty',\n",
       " 'speech',\n",
       " 'spiritual',\n",
       " 'sport',\n",
       " 'stonerrock',\n",
       " 'surf',\n",
       " 'swing',\n",
       " 'synthpop',\n",
       " 'synthrock',\n",
       " 'sängerportrait',\n",
       " 'tango',\n",
       " 'tanzorchester',\n",
       " 'taraftar',\n",
       " 'tatar',\n",
       " 'tech',\n",
       " 'techno',\n",
       " 'teen',\n",
       " 'thrash',\n",
       " 'top',\n",
       " 'traditional',\n",
       " 'tradjazz',\n",
       " 'trance',\n",
       " 'tribal',\n",
       " 'trip',\n",
       " 'triphop',\n",
       " 'tropical',\n",
       " 'türk',\n",
       " 'türkçe',\n",
       " 'ukrrock',\n",
       " 'unknown',\n",
       " 'urban',\n",
       " 'uzbek',\n",
       " 'variété',\n",
       " 'vi',\n",
       " 'videogame',\n",
       " 'vocal',\n",
       " 'western',\n",
       " 'world',\n",
       " 'worldbeat',\n",
       " 'ïîï',\n",
       " 'электроника']"
      ]
     },
     "execution_count": 15,
     "metadata": {},
     "output_type": "execute_result"
    }
   ],
   "source": [
    "# просмотр уникальных отсортированных названий жанров\n",
    "sorted(df['genre'].unique())"
   ]
  },
  {
   "cell_type": "markdown",
   "metadata": {
    "deletable": false,
    "editable": false,
    "id": "qej-Qmuo_Zct",
    "tags": [
     "start_task"
    ]
   },
   "source": [
    "**Задание 16**"
   ]
  },
  {
   "cell_type": "code",
   "execution_count": 16,
   "metadata": {
    "deletable": false,
    "id": "ErNDkmns_Zct"
   },
   "outputs": [],
   "source": [
    "# устранение неявных дубликатов\n",
    "duplicates = ['hip', 'hop', 'hip-hop']\n",
    "name = 'hiphop'\n",
    "df['genre'] = df['genre'].replace(duplicates, name)"
   ]
  },
  {
   "cell_type": "markdown",
   "metadata": {
    "deletable": false,
    "editable": false,
    "id": "zQKF16_RG15m",
    "tags": [
     "start_task"
    ]
   },
   "source": [
    "**Задание 17**"
   ]
  },
  {
   "cell_type": "code",
   "execution_count": 17,
   "metadata": {
    "deletable": false,
    "id": "wvixALnFG15m"
   },
   "outputs": [
    {
     "data": {
      "text/plain": [
       "['acid',\n",
       " 'acoustic',\n",
       " 'action',\n",
       " 'adult',\n",
       " 'africa',\n",
       " 'afrikaans',\n",
       " 'alternative',\n",
       " 'alternativepunk',\n",
       " 'ambient',\n",
       " 'americana',\n",
       " 'animated',\n",
       " 'anime',\n",
       " 'arabesk',\n",
       " 'arabic',\n",
       " 'arena',\n",
       " 'argentinetango',\n",
       " 'art',\n",
       " 'audiobook',\n",
       " 'author',\n",
       " 'avantgarde',\n",
       " 'axé',\n",
       " 'baile',\n",
       " 'balkan',\n",
       " 'beats',\n",
       " 'bigroom',\n",
       " 'black',\n",
       " 'bluegrass',\n",
       " 'blues',\n",
       " 'bollywood',\n",
       " 'bossa',\n",
       " 'brazilian',\n",
       " 'breakbeat',\n",
       " 'breaks',\n",
       " 'broadway',\n",
       " 'cantautori',\n",
       " 'cantopop',\n",
       " 'canzone',\n",
       " 'caribbean',\n",
       " 'caucasian',\n",
       " 'celtic',\n",
       " 'chamber',\n",
       " 'chanson',\n",
       " 'children',\n",
       " 'chill',\n",
       " 'chinese',\n",
       " 'choral',\n",
       " 'christian',\n",
       " 'christmas',\n",
       " 'classical',\n",
       " 'classicmetal',\n",
       " 'club',\n",
       " 'colombian',\n",
       " 'comedy',\n",
       " 'conjazz',\n",
       " 'contemporary',\n",
       " 'country',\n",
       " 'cuban',\n",
       " 'dance',\n",
       " 'dancehall',\n",
       " 'dancepop',\n",
       " 'dark',\n",
       " 'death',\n",
       " 'deep',\n",
       " 'deutschrock',\n",
       " 'deutschspr',\n",
       " 'dirty',\n",
       " 'disco',\n",
       " 'dnb',\n",
       " 'documentary',\n",
       " 'downbeat',\n",
       " 'downtempo',\n",
       " 'drum',\n",
       " 'dub',\n",
       " 'dubstep',\n",
       " 'eastern',\n",
       " 'easy',\n",
       " 'electronic',\n",
       " 'electropop',\n",
       " 'emo',\n",
       " 'entehno',\n",
       " 'epicmetal',\n",
       " 'estrada',\n",
       " 'ethnic',\n",
       " 'eurofolk',\n",
       " 'european',\n",
       " 'experimental',\n",
       " 'extrememetal',\n",
       " 'fado',\n",
       " 'fairytail',\n",
       " 'film',\n",
       " 'fitness',\n",
       " 'flamenco',\n",
       " 'folk',\n",
       " 'folklore',\n",
       " 'folkmetal',\n",
       " 'folkrock',\n",
       " 'folktronica',\n",
       " 'forró',\n",
       " 'frankreich',\n",
       " 'französisch',\n",
       " 'french',\n",
       " 'funk',\n",
       " 'future',\n",
       " 'gangsta',\n",
       " 'garage',\n",
       " 'german',\n",
       " 'ghazal',\n",
       " 'gitarre',\n",
       " 'glitch',\n",
       " 'gospel',\n",
       " 'gothic',\n",
       " 'grime',\n",
       " 'grunge',\n",
       " 'gypsy',\n",
       " 'handsup',\n",
       " \"hard'n'heavy\",\n",
       " 'hardcore',\n",
       " 'hardstyle',\n",
       " 'hardtechno',\n",
       " 'hiphop',\n",
       " 'historisch',\n",
       " 'holiday',\n",
       " 'horror',\n",
       " 'house',\n",
       " 'hymn',\n",
       " 'idm',\n",
       " 'independent',\n",
       " 'indian',\n",
       " 'indie',\n",
       " 'indipop',\n",
       " 'industrial',\n",
       " 'inspirational',\n",
       " 'instrumental',\n",
       " 'international',\n",
       " 'irish',\n",
       " 'jam',\n",
       " 'japanese',\n",
       " 'jazz',\n",
       " 'jewish',\n",
       " 'jpop',\n",
       " 'jungle',\n",
       " 'k-pop',\n",
       " 'karadeniz',\n",
       " 'karaoke',\n",
       " 'kayokyoku',\n",
       " 'korean',\n",
       " 'laiko',\n",
       " 'latin',\n",
       " 'latino',\n",
       " 'leftfield',\n",
       " 'local',\n",
       " 'lounge',\n",
       " 'loungeelectronic',\n",
       " 'lovers',\n",
       " 'malaysian',\n",
       " 'mandopop',\n",
       " 'marschmusik',\n",
       " 'meditative',\n",
       " 'mediterranean',\n",
       " 'melodic',\n",
       " 'metal',\n",
       " 'metalcore',\n",
       " 'mexican',\n",
       " 'middle',\n",
       " 'minimal',\n",
       " 'miscellaneous',\n",
       " 'modern',\n",
       " 'mood',\n",
       " 'mpb',\n",
       " 'muslim',\n",
       " 'native',\n",
       " 'neoklassik',\n",
       " 'neue',\n",
       " 'new',\n",
       " 'newage',\n",
       " 'newwave',\n",
       " 'nu',\n",
       " 'nujazz',\n",
       " 'numetal',\n",
       " 'oceania',\n",
       " 'old',\n",
       " 'opera',\n",
       " 'orchestral',\n",
       " 'other',\n",
       " 'piano',\n",
       " 'podcasts',\n",
       " 'pop',\n",
       " 'popdance',\n",
       " 'popelectronic',\n",
       " 'popeurodance',\n",
       " 'poprussian',\n",
       " 'post',\n",
       " 'posthardcore',\n",
       " 'postrock',\n",
       " 'power',\n",
       " 'progmetal',\n",
       " 'progressive',\n",
       " 'psychedelic',\n",
       " 'punjabi',\n",
       " 'punk',\n",
       " 'quebecois',\n",
       " 'ragga',\n",
       " 'ram',\n",
       " 'rancheras',\n",
       " 'rap',\n",
       " 'rave',\n",
       " 'reggae',\n",
       " 'reggaeton',\n",
       " 'regional',\n",
       " 'relax',\n",
       " 'religious',\n",
       " 'retro',\n",
       " 'rhythm',\n",
       " 'rnb',\n",
       " 'rnr',\n",
       " 'rock',\n",
       " 'rockabilly',\n",
       " 'rockalternative',\n",
       " 'rockindie',\n",
       " 'rockother',\n",
       " 'romance',\n",
       " 'roots',\n",
       " 'ruspop',\n",
       " 'rusrap',\n",
       " 'rusrock',\n",
       " 'russian',\n",
       " 'salsa',\n",
       " 'samba',\n",
       " 'scenic',\n",
       " 'schlager',\n",
       " 'self',\n",
       " 'sertanejo',\n",
       " 'shanson',\n",
       " 'shoegazing',\n",
       " 'showtunes',\n",
       " 'singer',\n",
       " 'ska',\n",
       " 'skarock',\n",
       " 'slow',\n",
       " 'smooth',\n",
       " 'soft',\n",
       " 'soul',\n",
       " 'soulful',\n",
       " 'sound',\n",
       " 'soundtrack',\n",
       " 'southern',\n",
       " 'specialty',\n",
       " 'speech',\n",
       " 'spiritual',\n",
       " 'sport',\n",
       " 'stonerrock',\n",
       " 'surf',\n",
       " 'swing',\n",
       " 'synthpop',\n",
       " 'synthrock',\n",
       " 'sängerportrait',\n",
       " 'tango',\n",
       " 'tanzorchester',\n",
       " 'taraftar',\n",
       " 'tatar',\n",
       " 'tech',\n",
       " 'techno',\n",
       " 'teen',\n",
       " 'thrash',\n",
       " 'top',\n",
       " 'traditional',\n",
       " 'tradjazz',\n",
       " 'trance',\n",
       " 'tribal',\n",
       " 'trip',\n",
       " 'triphop',\n",
       " 'tropical',\n",
       " 'türk',\n",
       " 'türkçe',\n",
       " 'ukrrock',\n",
       " 'unknown',\n",
       " 'urban',\n",
       " 'uzbek',\n",
       " 'variété',\n",
       " 'vi',\n",
       " 'videogame',\n",
       " 'vocal',\n",
       " 'western',\n",
       " 'world',\n",
       " 'worldbeat',\n",
       " 'ïîï',\n",
       " 'электроника']"
      ]
     },
     "execution_count": 17,
     "metadata": {},
     "output_type": "execute_result"
    }
   ],
   "source": [
    "# проверка на отсутствие неявных дубликатов\n",
    "sorted(df['genre'].unique())"
   ]
  },
  {
   "cell_type": "markdown",
   "metadata": {
    "deletable": false,
    "editable": false,
    "id": "jz6a9-7HQUDd"
   },
   "source": [
    "**Выводы**\n",
    "\n",
    "Предобработка обнаружила три проблемы в данных:\n",
    "\n",
    "- нарушения в стиле заголовков,\n",
    "- пропущенные значения,\n",
    "- дубликаты — явные и неявные.\n",
    "\n",
    "Вы исправили заголовки, чтобы упростить работу с таблицей. Без дубликатов исследование станет более точным.\n",
    "\n",
    "Пропущенные значения вы заменили на `'unknown'`. Ещё предстоит увидеть, не повредят ли исследованию пропуски в колонке `genre`.\n",
    "\n",
    "Теперь можно перейти к проверке гипотез."
   ]
  },
  {
   "cell_type": "markdown",
   "metadata": {
    "deletable": false,
    "editable": false,
    "id": "WttZHXH0SqKk"
   },
   "source": [
    "## Проверка гипотез"
   ]
  },
  {
   "cell_type": "markdown",
   "metadata": {
    "deletable": false,
    "editable": false,
    "id": "Im936VVi_Zcu"
   },
   "source": [
    "### Сравнение поведения пользователей двух столиц"
   ]
  },
  {
   "cell_type": "markdown",
   "metadata": {
    "deletable": false,
    "editable": false,
    "id": "nwt_MuaL_Zcu"
   },
   "source": [
    "Первая гипотеза утверждает, что пользователи по-разному слушают музыку в Москве и Санкт-Петербурге. Проверим это предположение по данным о трёх днях недели — понедельнике, среде и пятнице. Для этого:\n",
    "\n",
    "* Разделим пользователей Москвы и Санкт-Петербурга.\n",
    "* Сравним, сколько треков послушала каждая группа пользователей в понедельник, среду и пятницу.\n"
   ]
  },
  {
   "cell_type": "markdown",
   "metadata": {
    "deletable": false,
    "id": "8Dw_YMmT_Zcu",
    "tags": [
     "start_task"
    ]
   },
   "source": [
    "**Задание 18**\n",
    "\n"
   ]
  },
  {
   "cell_type": "code",
   "execution_count": 18,
   "metadata": {
    "deletable": false,
    "id": "0_Qs96oh_Zcu"
   },
   "outputs": [
    {
     "name": "stdout",
     "output_type": "stream",
     "text": [
      "42741\n",
      "18512\n"
     ]
    }
   ],
   "source": [
    "# подсчёт прослушиваний в каждом городе\n",
    "print(df[df['city'] == 'Moscow']['track'].count())\n",
    "print(df[df['city'] == 'Saint-Petersburg']['track'].count())\n",
    "\n",
    "df_msc = df[df['city'] == 'Moscow']['track'].count()\n",
    "df_spb = df[df['city'] == 'Saint-Petersburg']['track'].count()"
   ]
  },
  {
   "cell_type": "markdown",
   "metadata": {
    "id": "dzli3w8o_Zcu",
    "tags": [
     "start_task"
    ]
   },
   "source": [
    "**Задание 19**\n"
   ]
  },
  {
   "cell_type": "code",
   "execution_count": 19,
   "metadata": {
    "deletable": false,
    "id": "uZMKjiJz_Zcu"
   },
   "outputs": [
    {
     "data": {
      "text/plain": [
       "day\n",
       "Friday       21840\n",
       "Monday       21354\n",
       "Wednesday    18059\n",
       "Name: track, dtype: int64"
      ]
     },
     "execution_count": 19,
     "metadata": {},
     "output_type": "execute_result"
    }
   ],
   "source": [
    "# подсчёт прослушиваний в каждый из трёх дней\n",
    "df.groupby('day')['track'].count()"
   ]
  },
  {
   "cell_type": "markdown",
   "metadata": {
    "deletable": false,
    "editable": false,
    "id": "POzs8bGa_Zcu",
    "tags": [
     "start_task"
    ]
   },
   "source": [
    "**Задание 20**"
   ]
  },
  {
   "cell_type": "code",
   "execution_count": 20,
   "metadata": {
    "deletable": false,
    "id": "Nz3GdQB1_Zcu"
   },
   "outputs": [],
   "source": [
    "def number_tracks(day, city):\n",
    "    track_list = df[df['day'] == day] # выберите только строки df со значением переменной day в столбце day\n",
    "    track_list = track_list[track_list['city'] == city] # выберите только строки track_list со значением переменной city в столбце city\n",
    "    track_list_count = track_list['user_id'].count() # вызовите метод подсчета строк для track_list и выберите столбец user_id\n",
    "    return track_list_count # верните значение track_list_count из функции"
   ]
  },
  {
   "cell_type": "markdown",
   "metadata": {
    "deletable": false,
    "editable": false,
    "id": "ytf7xFrFJQ2r",
    "tags": [
     "start_task"
    ]
   },
   "source": [
    "**Задание 21**"
   ]
  },
  {
   "cell_type": "code",
   "execution_count": 21,
   "metadata": {
    "deletable": false,
    "id": "rJcRATNQ_Zcu"
   },
   "outputs": [
    {
     "data": {
      "text/plain": [
       "15740"
      ]
     },
     "execution_count": 21,
     "metadata": {},
     "output_type": "execute_result"
    }
   ],
   "source": [
    "# количество прослушиваний в Москве по понедельникам\n",
    "number_tracks(day='Monday', city='Moscow')"
   ]
  },
  {
   "cell_type": "code",
   "execution_count": 22,
   "metadata": {
    "deletable": false,
    "id": "hq_ncZ5T_Zcu"
   },
   "outputs": [
    {
     "data": {
      "text/plain": [
       "5614"
      ]
     },
     "execution_count": 22,
     "metadata": {},
     "output_type": "execute_result"
    }
   ],
   "source": [
    "# количество прослушиваний в Санкт-Петербурге по понедельникам\n",
    "number_tracks(day='Monday', city='Saint-Petersburg')"
   ]
  },
  {
   "cell_type": "code",
   "execution_count": 23,
   "metadata": {
    "deletable": false,
    "id": "_NTy2VPU_Zcu"
   },
   "outputs": [
    {
     "data": {
      "text/plain": [
       "11056"
      ]
     },
     "execution_count": 23,
     "metadata": {},
     "output_type": "execute_result"
    }
   ],
   "source": [
    "# количество прослушиваний в Москве по средам\n",
    "number_tracks(day='Wednesday', city='Moscow')"
   ]
  },
  {
   "cell_type": "code",
   "execution_count": 24,
   "metadata": {
    "deletable": false,
    "id": "j2y3TAwo_Zcu"
   },
   "outputs": [
    {
     "data": {
      "text/plain": [
       "7003"
      ]
     },
     "execution_count": 24,
     "metadata": {},
     "output_type": "execute_result"
    }
   ],
   "source": [
    "# количество прослушиваний в Санкт-Петербурге по средам\n",
    "number_tracks(day='Wednesday', city='Saint-Petersburg')"
   ]
  },
  {
   "cell_type": "code",
   "execution_count": 25,
   "metadata": {
    "deletable": false,
    "id": "vYDw5u_K_Zcu"
   },
   "outputs": [
    {
     "data": {
      "text/plain": [
       "15945"
      ]
     },
     "execution_count": 25,
     "metadata": {},
     "output_type": "execute_result"
    }
   ],
   "source": [
    "# количество прослушиваний в Москве по пятницам\n",
    "number_tracks(day='Friday', city='Moscow')"
   ]
  },
  {
   "cell_type": "code",
   "execution_count": 26,
   "metadata": {
    "deletable": false,
    "id": "8_yzFtW3_Zcu"
   },
   "outputs": [
    {
     "data": {
      "text/plain": [
       "5895"
      ]
     },
     "execution_count": 26,
     "metadata": {},
     "output_type": "execute_result"
    }
   ],
   "source": [
    "# количество прослушиваний в Санкт-Петербурге по пятницам\n",
    "number_tracks(day='Friday', city='Saint-Petersburg')"
   ]
  },
  {
   "cell_type": "markdown",
   "metadata": {
    "deletable": false,
    "editable": false,
    "id": "7QXffbO-_Zcu",
    "tags": [
     "start_task"
    ]
   },
   "source": [
    "**Задание 22**"
   ]
  },
  {
   "cell_type": "code",
   "execution_count": 27,
   "metadata": {
    "deletable": false,
    "id": "APAcLpOr_Zcu"
   },
   "outputs": [
    {
     "data": {
      "text/html": [
       "<div>\n",
       "<style scoped>\n",
       "    .dataframe tbody tr th:only-of-type {\n",
       "        vertical-align: middle;\n",
       "    }\n",
       "\n",
       "    .dataframe tbody tr th {\n",
       "        vertical-align: top;\n",
       "    }\n",
       "\n",
       "    .dataframe thead th {\n",
       "        text-align: right;\n",
       "    }\n",
       "</style>\n",
       "<table border=\"1\" class=\"dataframe\">\n",
       "  <thead>\n",
       "    <tr style=\"text-align: right;\">\n",
       "      <th></th>\n",
       "      <th></th>\n",
       "      <th>Moscow</th>\n",
       "      <th>Saint-Petersburg</th>\n",
       "    </tr>\n",
       "  </thead>\n",
       "  <tbody>\n",
       "    <tr>\n",
       "      <th>0</th>\n",
       "      <td>Monday</td>\n",
       "      <td>15740</td>\n",
       "      <td>5614</td>\n",
       "    </tr>\n",
       "    <tr>\n",
       "      <th>1</th>\n",
       "      <td>Wednesday</td>\n",
       "      <td>11056</td>\n",
       "      <td>7003</td>\n",
       "    </tr>\n",
       "    <tr>\n",
       "      <th>2</th>\n",
       "      <td>Friday</td>\n",
       "      <td>15945</td>\n",
       "      <td>5895</td>\n",
       "    </tr>\n",
       "  </tbody>\n",
       "</table>\n",
       "</div>"
      ],
      "text/plain": [
       "              Moscow  Saint-Petersburg\n",
       "0     Monday   15740              5614\n",
       "1  Wednesday   11056              7003\n",
       "2     Friday   15945              5895"
      ]
     },
     "execution_count": 27,
     "metadata": {},
     "output_type": "execute_result"
    }
   ],
   "source": [
    "# создание таблицы с результатами\n",
    "columns = ['', 'Moscow', 'Saint-Petersburg']\n",
    "data = [\n",
    "    ['Monday', 15740, 5614],\n",
    "    ['Wednesday', 11056, 7003],\n",
    "    ['Friday', 15945, 5895]\n",
    "]\n",
    "\n",
    "research_result = pd.DataFrame(data=data, columns=columns)\n",
    "research_result\n",
    "# вывод таблицы на экран"
   ]
  },
  {
   "cell_type": "markdown",
   "metadata": {
    "deletable": false,
    "editable": false,
    "id": "-EgPIHYu_Zcu"
   },
   "source": [
    "**Выводы**\n",
    "\n",
    "Данные показывают разницу поведения пользователей:\n",
    "\n",
    "- В Москве пик прослушиваний приходится на понедельник и пятницу, а в среду заметен спад.\n",
    "- В Петербурге, наоборот, больше слушают музыку по средам. Активность в понедельник и пятницу здесь почти в равной мере уступает среде.\n",
    "\n",
    "Значит, данные говорят в пользу первой гипотезы."
   ]
  },
  {
   "cell_type": "markdown",
   "metadata": {
    "deletable": false,
    "editable": false,
    "id": "atZAxtq4_Zcu"
   },
   "source": [
    "### Музыка в начале и в конце недели"
   ]
  },
  {
   "cell_type": "markdown",
   "metadata": {
    "deletable": false,
    "editable": false,
    "id": "eXrQqXFH_Zcu"
   },
   "source": [
    "Согласно второй гипотезе, утром в понедельник в Москве преобладают одни жанры, а в Петербурге — другие. Так же и вечером пятницы преобладают разные жанры — в зависимости от города."
   ]
  },
  {
   "cell_type": "markdown",
   "metadata": {
    "deletable": false,
    "editable": false,
    "id": "S8UcW6Hw_Zcu",
    "tags": [
     "start_task"
    ]
   },
   "source": [
    "**Задание 23**"
   ]
  },
  {
   "cell_type": "code",
   "execution_count": 28,
   "metadata": {
    "deletable": false,
    "id": "qeaFfM_P_Zcu"
   },
   "outputs": [],
   "source": [
    "# получение таблицы moscow_general из тех строк таблицы df, для которых значение в столбце 'city' равно 'Moscow'\n",
    "moscow_general = df[df['city'] == 'Moscow']"
   ]
  },
  {
   "cell_type": "code",
   "execution_count": 29,
   "metadata": {
    "deletable": false,
    "id": "ORaVRKto_Zcu"
   },
   "outputs": [],
   "source": [
    "# получение таблицы spb_general из тех строк таблицы df, для которых значение в столбце 'city' равно 'Saint-Petersburg'\n",
    "spb_general = df[df['city'] == 'Saint-Petersburg']"
   ]
  },
  {
   "cell_type": "markdown",
   "metadata": {
    "deletable": false,
    "editable": false,
    "id": "MEJV-CX2_Zcu",
    "tags": [
     "start_task"
    ]
   },
   "source": [
    "**Задание 24**"
   ]
  },
  {
   "cell_type": "code",
   "execution_count": 30,
   "metadata": {
    "deletable": false,
    "id": "laJT9BYl_Zcu"
   },
   "outputs": [],
   "source": [
    "def genre_weekday(df, day, time1, time2):\n",
    "    # последовательная фильтрация\n",
    "    # оставляем в genre_df только те строки df, у которых день равен day\n",
    "    genre_df = df[df['day'] == day] # ваш код здесь\n",
    "    # оставляем в genre_df только те строки genre_df, у которых время меньше time2\n",
    "    genre_df = genre_df[genre_df['time'] < time2] # ваш код здесь\n",
    "    # оставляем в genre_df только те строки genre_df, у которых время больше time1\n",
    "    genre_df = genre_df[genre_df['time'] > time1] # ваш код здесь\n",
    "    # сгруппируем отфильтрованный датафрейм по столбцу с названиями жанров, возьмём столбец genre и посчитаем кол-во строк для каждого жанра методом count()\n",
    "    genre_df_grouped = genre_df.groupby('genre')['genre'].count() # ваш код здесь\n",
    "    # отсортируем результат по убыванию (чтобы в начале Series оказались самые популярные жанры)\n",
    "    genre_df_sorted = genre_df_grouped.sort_values(ascending=False)  # ваш код здесь\n",
    "    # вернём Series с 10 самыми популярными жанрами в указанный отрезок времени заданного дня\n",
    "    return genre_df_sorted[:10]"
   ]
  },
  {
   "cell_type": "markdown",
   "metadata": {
    "deletable": false,
    "editable": false,
    "id": "la2s2_PF_Zcu",
    "tags": [
     "start_task"
    ]
   },
   "source": [
    "**Задание 25**"
   ]
  },
  {
   "cell_type": "code",
   "execution_count": 31,
   "metadata": {
    "deletable": false,
    "id": "yz7itPUQ_Zcu"
   },
   "outputs": [
    {
     "data": {
      "text/plain": [
       "genre\n",
       "pop            781\n",
       "dance          549\n",
       "electronic     480\n",
       "rock           474\n",
       "hiphop         286\n",
       "ruspop         186\n",
       "world          181\n",
       "rusrap         175\n",
       "alternative    164\n",
       "unknown        161\n",
       "Name: genre, dtype: int64"
      ]
     },
     "execution_count": 31,
     "metadata": {},
     "output_type": "execute_result"
    }
   ],
   "source": [
    "# вызов функции для утра понедельника в Москве (вместо df — таблица moscow_general)\n",
    "genre_weekday(moscow_general, 'Monday', '07:00', '11:00')"
   ]
  },
  {
   "cell_type": "code",
   "execution_count": 32,
   "metadata": {
    "deletable": false,
    "id": "kwUcHPdy_Zcu"
   },
   "outputs": [
    {
     "data": {
      "text/plain": [
       "genre\n",
       "pop            218\n",
       "dance          182\n",
       "rock           162\n",
       "electronic     147\n",
       "hiphop          80\n",
       "ruspop          64\n",
       "alternative     58\n",
       "rusrap          55\n",
       "jazz            44\n",
       "classical       40\n",
       "Name: genre, dtype: int64"
      ]
     },
     "execution_count": 32,
     "metadata": {},
     "output_type": "execute_result"
    }
   ],
   "source": [
    "# вызов функции для утра понедельника в Петербурге (вместо df — таблица spb_general)\n",
    "genre_weekday(spb_general, 'Monday', '07:00', '11:00')"
   ]
  },
  {
   "cell_type": "code",
   "execution_count": 33,
   "metadata": {
    "deletable": false,
    "id": "EzXVRE1o_Zcu"
   },
   "outputs": [
    {
     "data": {
      "text/plain": [
       "genre\n",
       "pop            713\n",
       "rock           517\n",
       "dance          495\n",
       "electronic     482\n",
       "hiphop         273\n",
       "world          208\n",
       "ruspop         170\n",
       "alternative    163\n",
       "classical      163\n",
       "rusrap         142\n",
       "Name: genre, dtype: int64"
      ]
     },
     "execution_count": 33,
     "metadata": {},
     "output_type": "execute_result"
    }
   ],
   "source": [
    "# вызов функции для вечера пятницы в Москве\n",
    "genre_weekday(moscow_general, 'Friday', '17:00', '23:00')"
   ]
  },
  {
   "cell_type": "code",
   "execution_count": 34,
   "metadata": {
    "deletable": false,
    "id": "JZaEKu5v_Zcu"
   },
   "outputs": [
    {
     "data": {
      "text/plain": [
       "genre\n",
       "pop            256\n",
       "electronic     216\n",
       "rock           216\n",
       "dance          210\n",
       "hiphop          97\n",
       "alternative     63\n",
       "jazz            61\n",
       "classical       60\n",
       "rusrap          59\n",
       "world           54\n",
       "Name: genre, dtype: int64"
      ]
     },
     "execution_count": 34,
     "metadata": {},
     "output_type": "execute_result"
    }
   ],
   "source": [
    "# вызов функции для вечера пятницы в Петербурге\n",
    "genre_weekday(spb_general, 'Friday', '17:00', '23:00')"
   ]
  },
  {
   "cell_type": "markdown",
   "metadata": {
    "deletable": false,
    "editable": false,
    "id": "wrCe4MNX_Zcu"
   },
   "source": [
    "**Выводы**\n",
    "\n",
    "Если сравнить топ-10 жанров в понедельник утром, можно сделать такие выводы:\n",
    "\n",
    "1. В Москве и Петербурге слушают похожую музыку. Единственное различие — в московский рейтинг вошёл жанр “world”, а в петербургский — джаз и классика.\n",
    "\n",
    "2. В Москве пропущенных значений оказалось так много, что значение `'unknown'` заняло десятое место среди самых популярных жанров. Значит, пропущенные значения занимают существенную долю в данных и угрожают достоверности исследования.\n",
    "\n",
    "Вечер пятницы не меняет эту картину. Некоторые жанры поднимаются немного выше, другие спускаются, но в целом топ-10 остаётся тем же самым.\n",
    "\n",
    "Таким образом, вторая гипотеза подтвердилась лишь частично:\n",
    "* Пользователи слушают похожую музыку в начале недели и в конце.\n",
    "* Разница между Москвой и Петербургом не слишком выражена. В Москве чаще слушают русскую популярную музыку, в Петербурге — джаз.\n",
    "\n",
    "Однако пропуски в данных ставят под сомнение этот результат. В Москве их так много, что рейтинг топ-10 мог бы выглядеть иначе, если бы не утерянные  данные о жанрах."
   ]
  },
  {
   "cell_type": "markdown",
   "metadata": {
    "deletable": false,
    "editable": false,
    "id": "JolODAqr_Zcu"
   },
   "source": [
    "### Жанровые предпочтения в Москве и Петербурге\n",
    "\n",
    "Гипотеза: Петербург — столица рэпа, музыку этого жанра там слушают чаще, чем в Москве.  А Москва — город контрастов, в котором, тем не менее, преобладает поп-музыка."
   ]
  },
  {
   "cell_type": "markdown",
   "metadata": {
    "deletable": false,
    "editable": false,
    "id": "DlegSvaT_Zcu",
    "tags": [
     "start_task"
    ]
   },
   "source": [
    "**Задание 26**"
   ]
  },
  {
   "cell_type": "code",
   "execution_count": 35,
   "metadata": {
    "deletable": false,
    "id": "r19lIPke_Zcu"
   },
   "outputs": [],
   "source": [
    "# одной строкой: группировка таблицы moscow_general по столбцу 'genre', выбор столбца `genre`, подсчёт числа значений 'genre' методом count(), сохранение в moscow_genres\n",
    "# сортировка получившегося Series в порядке убывания и сохранение обратно в moscow_genres\n",
    "moscow_genres = moscow_general.groupby('genre')['genre'].count()\n",
    "moscow_genres = moscow_genres.sort_values(ascending=False) "
   ]
  },
  {
   "cell_type": "markdown",
   "metadata": {
    "deletable": false,
    "editable": false,
    "id": "6kMuomxTiIr8",
    "tags": [
     "start_task"
    ]
   },
   "source": [
    "**Задание 27**"
   ]
  },
  {
   "cell_type": "code",
   "execution_count": 36,
   "metadata": {
    "deletable": false,
    "id": "WhCSooF8_Zcv"
   },
   "outputs": [
    {
     "data": {
      "text/plain": [
       "genre\n",
       "pop            5892\n",
       "dance          4435\n",
       "rock           3965\n",
       "electronic     3786\n",
       "hiphop         2096\n",
       "classical      1616\n",
       "world          1432\n",
       "alternative    1379\n",
       "ruspop         1372\n",
       "rusrap         1161\n",
       "Name: genre, dtype: int64"
      ]
     },
     "execution_count": 36,
     "metadata": {},
     "output_type": "execute_result"
    }
   ],
   "source": [
    "# просмотр первых 10 строк moscow_genres\n",
    "moscow_genres.head(10)"
   ]
  },
  {
   "cell_type": "markdown",
   "metadata": {
    "deletable": false,
    "editable": false,
    "id": "cnPG2vnN_Zcv",
    "tags": [
     "start_task"
    ]
   },
   "source": [
    "**Задание 28**"
   ]
  },
  {
   "cell_type": "code",
   "execution_count": 37,
   "metadata": {
    "deletable": false,
    "id": "gluLIpE7_Zcv"
   },
   "outputs": [],
   "source": [
    "# одной строкой: группировка таблицы spb_general по столбцу 'genre', выбор столбца `genre`, подсчёт числа значений 'genre' методом count(), сохранение в spb_genres\n",
    "# сортировка получившегося Series в порядке убывания и сохранение обратно в spb_genres\n",
    "spb_genres = spb_general.groupby('genre')['genre'].count()\n",
    "spb_genres = spb_genres.sort_values(ascending=False) "
   ]
  },
  {
   "cell_type": "markdown",
   "metadata": {
    "deletable": false,
    "editable": false,
    "id": "5Doha_ODgyQ8",
    "tags": [
     "start_task"
    ]
   },
   "source": [
    "**Задание 29**"
   ]
  },
  {
   "cell_type": "code",
   "execution_count": 38,
   "metadata": {
    "deletable": false,
    "id": "uaGJHjVU_Zcv"
   },
   "outputs": [
    {
     "data": {
      "text/plain": [
       "genre\n",
       "pop            2431\n",
       "dance          1932\n",
       "rock           1879\n",
       "electronic     1736\n",
       "hiphop          960\n",
       "alternative     649\n",
       "classical       646\n",
       "rusrap          564\n",
       "ruspop          538\n",
       "world           515\n",
       "Name: genre, dtype: int64"
      ]
     },
     "execution_count": 38,
     "metadata": {},
     "output_type": "execute_result"
    }
   ],
   "source": [
    "# просмотр первых 10 строк spb_genres\n",
    "spb_genres.head(10)"
   ]
  },
  {
   "cell_type": "markdown",
   "metadata": {
    "deletable": false,
    "editable": false,
    "id": "RY51YJYu_Zcv"
   },
   "source": [
    "**Выводы**"
   ]
  },
  {
   "cell_type": "markdown",
   "metadata": {
    "deletable": false,
    "editable": false,
    "id": "nVhnJEm__Zcv"
   },
   "source": [
    "Гипотеза частично подтвердилась:\n",
    "* Поп-музыка — самый популярный жанр в Москве, как и предполагала гипотеза. Более того, в топ-10 жанров встречается близкий жанр — русская популярная музыка.\n",
    "* Вопреки ожиданиям, рэп одинаково популярен в Москве и Петербурге.\n"
   ]
  },
  {
   "cell_type": "markdown",
   "metadata": {
    "deletable": false,
    "editable": false,
    "id": "ykKQ0N65_Zcv"
   },
   "source": [
    "## Итоги исследования"
   ]
  },
  {
   "cell_type": "markdown",
   "metadata": {
    "deletable": false,
    "editable": false,
    "id": "tjUwbHb3_Zcv"
   },
   "source": [
    "Вы проверили три гипотезы и установили:\n",
    "\n",
    "1. День недели по-разному влияет на активность пользователей в Москве и Петербурге.\n",
    "\n",
    "Первая гипотеза полностью подтвердилась.\n",
    "\n",
    "2. Музыкальные предпочтения не сильно меняются в течение недели — будь то Москва или Петербург. Небольшие различия заметны в начале недели, по понедельникам:\n",
    "* в Москве слушают музыку жанра “world”,\n",
    "* в Петербурге — джаз и классику.\n",
    "\n",
    "Таким образом, вторая гипотеза подтвердилась лишь отчасти. Этот результат мог оказаться иным, если бы не пропуски в данных.\n",
    "\n",
    "3. Во вкусах пользователей Москвы и Петербурга больше общего, чем различий. Вопреки ожиданиям, предпочтения жанров в Петербурге напоминают московские.\n",
    "\n",
    "Третья гипотеза не подтвердилась. Если различия в предпочтениях и существуют, на основной массе пользователей они незаметны.\n",
    "\n",
    "**На практике исследования содержат проверки статистических гипотез.**\n",
    "Из части данных одного сервиса невозможно сделать какие-то выводы о всех пользователях сервиса без методов статистики.\n",
    "Проверки статистических гипотез покажут, насколько они достоверны, исходя из имеющихся данных.\n",
    "С методами проверок гипотез вы ещё познакомитесь в следующих темах."
   ]
  }
 ],
 "metadata": {
  "ExecuteTimeLog": [
   {
    "duration": 48,
    "start_time": "2024-12-03T09:00:10.329Z"
   },
   {
    "duration": 393,
    "start_time": "2024-12-03T09:00:21.619Z"
   },
   {
    "duration": 374,
    "start_time": "2024-12-03T09:00:29.823Z"
   },
   {
    "duration": 116,
    "start_time": "2024-12-03T09:00:30.199Z"
   },
   {
    "duration": 0,
    "start_time": "2024-12-03T09:00:30.317Z"
   },
   {
    "duration": 0,
    "start_time": "2024-12-03T09:00:30.318Z"
   },
   {
    "duration": 0,
    "start_time": "2024-12-03T09:00:30.319Z"
   },
   {
    "duration": 0,
    "start_time": "2024-12-03T09:00:30.320Z"
   },
   {
    "duration": 0,
    "start_time": "2024-12-03T09:00:30.321Z"
   },
   {
    "duration": 0,
    "start_time": "2024-12-03T09:00:30.322Z"
   },
   {
    "duration": 0,
    "start_time": "2024-12-03T09:00:30.323Z"
   },
   {
    "duration": 0,
    "start_time": "2024-12-03T09:00:30.324Z"
   },
   {
    "duration": 0,
    "start_time": "2024-12-03T09:00:30.325Z"
   },
   {
    "duration": 0,
    "start_time": "2024-12-03T09:00:30.325Z"
   },
   {
    "duration": 0,
    "start_time": "2024-12-03T09:00:30.326Z"
   },
   {
    "duration": 0,
    "start_time": "2024-12-03T09:00:30.327Z"
   },
   {
    "duration": 0,
    "start_time": "2024-12-03T09:00:30.328Z"
   },
   {
    "duration": 0,
    "start_time": "2024-12-03T09:00:30.329Z"
   },
   {
    "duration": 0,
    "start_time": "2024-12-03T09:00:30.329Z"
   },
   {
    "duration": 0,
    "start_time": "2024-12-03T09:00:30.330Z"
   },
   {
    "duration": 0,
    "start_time": "2024-12-03T09:00:30.331Z"
   },
   {
    "duration": 0,
    "start_time": "2024-12-03T09:00:30.332Z"
   },
   {
    "duration": 0,
    "start_time": "2024-12-03T09:00:30.333Z"
   },
   {
    "duration": 0,
    "start_time": "2024-12-03T09:00:30.333Z"
   },
   {
    "duration": 0,
    "start_time": "2024-12-03T09:00:30.334Z"
   },
   {
    "duration": 0,
    "start_time": "2024-12-03T09:00:30.335Z"
   },
   {
    "duration": 0,
    "start_time": "2024-12-03T09:00:30.336Z"
   },
   {
    "duration": 0,
    "start_time": "2024-12-03T09:00:30.337Z"
   },
   {
    "duration": 0,
    "start_time": "2024-12-03T09:00:30.338Z"
   },
   {
    "duration": 0,
    "start_time": "2024-12-03T09:00:30.340Z"
   },
   {
    "duration": 0,
    "start_time": "2024-12-03T09:00:30.341Z"
   },
   {
    "duration": 0,
    "start_time": "2024-12-03T09:00:30.342Z"
   },
   {
    "duration": 0,
    "start_time": "2024-12-03T09:00:30.344Z"
   },
   {
    "duration": 0,
    "start_time": "2024-12-03T09:00:30.392Z"
   },
   {
    "duration": 0,
    "start_time": "2024-12-03T09:00:30.394Z"
   },
   {
    "duration": 0,
    "start_time": "2024-12-03T09:00:30.395Z"
   },
   {
    "duration": 0,
    "start_time": "2024-12-03T09:00:30.397Z"
   },
   {
    "duration": 0,
    "start_time": "2024-12-03T09:00:30.398Z"
   },
   {
    "duration": 0,
    "start_time": "2024-12-03T09:00:30.400Z"
   },
   {
    "duration": 0,
    "start_time": "2024-12-03T09:00:30.401Z"
   },
   {
    "duration": 379,
    "start_time": "2024-12-03T09:01:48.425Z"
   },
   {
    "duration": 256,
    "start_time": "2024-12-03T09:01:48.806Z"
   },
   {
    "duration": 17,
    "start_time": "2024-12-03T09:01:49.064Z"
   },
   {
    "duration": 7,
    "start_time": "2024-12-03T09:01:49.083Z"
   },
   {
    "duration": 10,
    "start_time": "2024-12-03T09:01:49.092Z"
   },
   {
    "duration": 3,
    "start_time": "2024-12-03T09:01:49.104Z"
   },
   {
    "duration": 4,
    "start_time": "2024-12-03T09:01:49.108Z"
   },
   {
    "duration": 4,
    "start_time": "2024-12-03T09:01:49.113Z"
   },
   {
    "duration": 6,
    "start_time": "2024-12-03T09:01:49.118Z"
   },
   {
    "duration": 31,
    "start_time": "2024-12-03T09:01:49.126Z"
   },
   {
    "duration": 14,
    "start_time": "2024-12-03T09:01:49.158Z"
   },
   {
    "duration": 6,
    "start_time": "2024-12-03T09:01:49.174Z"
   },
   {
    "duration": 4,
    "start_time": "2024-12-03T09:01:49.181Z"
   },
   {
    "duration": 3,
    "start_time": "2024-12-03T09:01:49.188Z"
   },
   {
    "duration": 5,
    "start_time": "2024-12-03T09:01:49.192Z"
   },
   {
    "duration": 3,
    "start_time": "2024-12-03T09:01:49.198Z"
   },
   {
    "duration": 4,
    "start_time": "2024-12-03T09:01:49.202Z"
   },
   {
    "duration": 9,
    "start_time": "2024-12-03T09:01:49.208Z"
   },
   {
    "duration": 5,
    "start_time": "2024-12-03T09:01:49.219Z"
   },
   {
    "duration": 104,
    "start_time": "2024-12-03T09:01:49.225Z"
   },
   {
    "duration": 0,
    "start_time": "2024-12-03T09:01:49.331Z"
   },
   {
    "duration": 0,
    "start_time": "2024-12-03T09:01:49.332Z"
   },
   {
    "duration": 0,
    "start_time": "2024-12-03T09:01:49.334Z"
   },
   {
    "duration": 0,
    "start_time": "2024-12-03T09:01:49.335Z"
   },
   {
    "duration": 0,
    "start_time": "2024-12-03T09:01:49.337Z"
   },
   {
    "duration": 0,
    "start_time": "2024-12-03T09:01:49.338Z"
   },
   {
    "duration": 0,
    "start_time": "2024-12-03T09:01:49.340Z"
   },
   {
    "duration": 0,
    "start_time": "2024-12-03T09:01:49.341Z"
   },
   {
    "duration": 0,
    "start_time": "2024-12-03T09:01:49.343Z"
   },
   {
    "duration": 0,
    "start_time": "2024-12-03T09:01:49.344Z"
   },
   {
    "duration": 0,
    "start_time": "2024-12-03T09:01:49.346Z"
   },
   {
    "duration": 0,
    "start_time": "2024-12-03T09:01:49.347Z"
   },
   {
    "duration": 0,
    "start_time": "2024-12-03T09:01:49.350Z"
   },
   {
    "duration": 0,
    "start_time": "2024-12-03T09:01:49.351Z"
   },
   {
    "duration": 0,
    "start_time": "2024-12-03T09:01:49.356Z"
   },
   {
    "duration": 0,
    "start_time": "2024-12-03T09:01:49.357Z"
   },
   {
    "duration": 0,
    "start_time": "2024-12-03T09:01:49.358Z"
   },
   {
    "duration": 0,
    "start_time": "2024-12-03T09:01:49.360Z"
   },
   {
    "duration": 34,
    "start_time": "2024-12-03T09:02:18.592Z"
   },
   {
    "duration": 4,
    "start_time": "2024-12-03T09:03:41.008Z"
   },
   {
    "duration": 12,
    "start_time": "2024-12-03T09:06:01.338Z"
   },
   {
    "duration": 4,
    "start_time": "2024-12-03T09:06:22.399Z"
   },
   {
    "duration": 27,
    "start_time": "2024-12-03T09:07:00.139Z"
   },
   {
    "duration": 1447,
    "start_time": "2024-12-03T09:08:18.236Z"
   },
   {
    "duration": 1793,
    "start_time": "2024-12-03T09:08:37.865Z"
   },
   {
    "duration": 21,
    "start_time": "2024-12-03T09:09:55.884Z"
   },
   {
    "duration": 28,
    "start_time": "2024-12-03T09:10:05.287Z"
   },
   {
    "duration": 69,
    "start_time": "2024-12-03T09:10:34.258Z"
   },
   {
    "duration": 75,
    "start_time": "2024-12-03T09:10:49.586Z"
   },
   {
    "duration": 64,
    "start_time": "2024-12-03T09:10:59.722Z"
   },
   {
    "duration": 104,
    "start_time": "2024-12-03T09:12:06.054Z"
   },
   {
    "duration": 55,
    "start_time": "2024-12-03T09:12:10.399Z"
   },
   {
    "duration": 19,
    "start_time": "2024-12-03T09:14:00.284Z"
   },
   {
    "duration": 57,
    "start_time": "2024-12-03T09:14:26.719Z"
   },
   {
    "duration": 10,
    "start_time": "2024-12-03T09:14:44.722Z"
   },
   {
    "duration": 9,
    "start_time": "2024-12-03T09:15:28.934Z"
   },
   {
    "duration": 10,
    "start_time": "2024-12-03T09:17:20.528Z"
   },
   {
    "duration": 57,
    "start_time": "2024-12-03T09:26:19.623Z"
   },
   {
    "duration": 54,
    "start_time": "2024-12-03T09:26:46.236Z"
   },
   {
    "duration": 8,
    "start_time": "2024-12-03T09:27:04.249Z"
   },
   {
    "duration": 6,
    "start_time": "2024-12-03T09:27:20.464Z"
   },
   {
    "duration": 6,
    "start_time": "2024-12-03T09:27:33.359Z"
   },
   {
    "duration": 9,
    "start_time": "2024-12-03T09:27:45.288Z"
   },
   {
    "duration": 14,
    "start_time": "2024-12-03T09:27:52.092Z"
   },
   {
    "duration": 3,
    "start_time": "2024-12-03T09:28:00.800Z"
   },
   {
    "duration": 10,
    "start_time": "2024-12-03T09:30:26.037Z"
   },
   {
    "duration": 4,
    "start_time": "2024-12-03T09:32:15.769Z"
   },
   {
    "duration": 14,
    "start_time": "2024-12-03T09:32:18.192Z"
   },
   {
    "duration": 37,
    "start_time": "2024-12-03T09:34:52.206Z"
   },
   {
    "duration": 12,
    "start_time": "2024-12-03T09:35:02.187Z"
   },
   {
    "duration": 11,
    "start_time": "2024-12-03T09:43:03.158Z"
   },
   {
    "duration": 11,
    "start_time": "2024-12-03T09:43:12.905Z"
   },
   {
    "duration": 11,
    "start_time": "2024-12-03T09:43:31.561Z"
   },
   {
    "duration": 11,
    "start_time": "2024-12-03T09:46:15.352Z"
   },
   {
    "duration": 21,
    "start_time": "2024-12-03T09:48:35.071Z"
   },
   {
    "duration": 52,
    "start_time": "2024-12-03T09:49:01.208Z"
   },
   {
    "duration": 26,
    "start_time": "2024-12-03T09:49:16.634Z"
   },
   {
    "duration": 31,
    "start_time": "2024-12-03T09:49:46.785Z"
   },
   {
    "duration": 32,
    "start_time": "2024-12-03T09:49:56.889Z"
   },
   {
    "duration": 38,
    "start_time": "2024-12-03T09:50:40.535Z"
   },
   {
    "duration": 29,
    "start_time": "2024-12-03T09:50:50.814Z"
   },
   {
    "duration": 8,
    "start_time": "2024-12-03T09:51:55.339Z"
   },
   {
    "duration": 11,
    "start_time": "2024-12-03T09:52:15.426Z"
   },
   {
    "duration": 14,
    "start_time": "2024-12-03T09:52:25.601Z"
   },
   {
    "duration": 30,
    "start_time": "2024-12-03T09:53:43.278Z"
   },
   {
    "duration": 49,
    "start_time": "2024-12-03T09:53:58.422Z"
   },
   {
    "duration": 12,
    "start_time": "2024-12-03T09:54:36.609Z"
   },
   {
    "duration": 26,
    "start_time": "2024-12-03T09:55:21.534Z"
   },
   {
    "duration": 37,
    "start_time": "2024-12-03T09:55:59.356Z"
   },
   {
    "duration": 39,
    "start_time": "2024-12-03T09:56:07.495Z"
   },
   {
    "duration": 60,
    "start_time": "2024-12-03T09:57:47.295Z"
   },
   {
    "duration": 4,
    "start_time": "2024-12-03T10:02:59.662Z"
   },
   {
    "duration": 1407,
    "start_time": "2024-12-03T10:03:56.494Z"
   },
   {
    "duration": 1375,
    "start_time": "2024-12-03T10:05:18.747Z"
   },
   {
    "duration": 1387,
    "start_time": "2024-12-03T10:08:58.735Z"
   },
   {
    "duration": 1411,
    "start_time": "2024-12-03T10:09:43.119Z"
   },
   {
    "duration": 4,
    "start_time": "2024-12-03T10:11:03.183Z"
   },
   {
    "duration": 1195,
    "start_time": "2024-12-03T10:11:07.931Z"
   },
   {
    "duration": 4,
    "start_time": "2024-12-03T10:11:50.197Z"
   },
   {
    "duration": 23,
    "start_time": "2024-12-03T10:11:54.812Z"
   },
   {
    "duration": 22,
    "start_time": "2024-12-03T10:12:14.476Z"
   },
   {
    "duration": 21,
    "start_time": "2024-12-03T10:12:36.502Z"
   },
   {
    "duration": 22,
    "start_time": "2024-12-03T10:12:49.660Z"
   },
   {
    "duration": 24,
    "start_time": "2024-12-03T10:12:59.614Z"
   },
   {
    "duration": 25,
    "start_time": "2024-12-03T10:13:49.604Z"
   },
   {
    "duration": 34,
    "start_time": "2024-12-03T10:14:10.180Z"
   },
   {
    "duration": 23,
    "start_time": "2024-12-03T10:15:09.720Z"
   },
   {
    "duration": 22,
    "start_time": "2024-12-03T10:15:34.450Z"
   },
   {
    "duration": 2,
    "start_time": "2024-12-03T10:15:35.826Z"
   },
   {
    "duration": 406,
    "start_time": "2024-12-03T10:16:26.494Z"
   },
   {
    "duration": 186,
    "start_time": "2024-12-03T10:16:26.902Z"
   },
   {
    "duration": 18,
    "start_time": "2024-12-03T10:16:27.092Z"
   },
   {
    "duration": 34,
    "start_time": "2024-12-03T10:16:27.112Z"
   },
   {
    "duration": 3,
    "start_time": "2024-12-03T10:16:27.147Z"
   },
   {
    "duration": 7,
    "start_time": "2024-12-03T10:16:27.152Z"
   },
   {
    "duration": 35,
    "start_time": "2024-12-03T10:16:27.161Z"
   },
   {
    "duration": 5,
    "start_time": "2024-12-03T10:16:27.198Z"
   },
   {
    "duration": 28,
    "start_time": "2024-12-03T10:16:27.204Z"
   },
   {
    "duration": 21,
    "start_time": "2024-12-03T10:16:27.233Z"
   },
   {
    "duration": 52,
    "start_time": "2024-12-03T10:16:27.256Z"
   },
   {
    "duration": 85,
    "start_time": "2024-12-03T10:16:27.310Z"
   },
   {
    "duration": 81,
    "start_time": "2024-12-03T10:16:27.400Z"
   },
   {
    "duration": 76,
    "start_time": "2024-12-03T10:16:27.483Z"
   },
   {
    "duration": 11,
    "start_time": "2024-12-03T10:16:27.561Z"
   },
   {
    "duration": 20,
    "start_time": "2024-12-03T10:16:27.573Z"
   },
   {
    "duration": 14,
    "start_time": "2024-12-03T10:16:27.595Z"
   },
   {
    "duration": 49,
    "start_time": "2024-12-03T10:16:27.611Z"
   },
   {
    "duration": 85,
    "start_time": "2024-12-03T10:16:27.661Z"
   },
   {
    "duration": 3,
    "start_time": "2024-12-03T10:16:27.748Z"
   },
   {
    "duration": 96,
    "start_time": "2024-12-03T10:16:27.752Z"
   },
   {
    "duration": 6,
    "start_time": "2024-12-03T10:16:27.849Z"
   },
   {
    "duration": 16,
    "start_time": "2024-12-03T10:16:27.857Z"
   },
   {
    "duration": 3,
    "start_time": "2024-12-03T10:16:27.875Z"
   },
   {
    "duration": 11,
    "start_time": "2024-12-03T10:16:27.879Z"
   },
   {
    "duration": 8,
    "start_time": "2024-12-03T10:16:27.893Z"
   },
   {
    "duration": 8,
    "start_time": "2024-12-03T10:16:27.903Z"
   },
   {
    "duration": 3,
    "start_time": "2024-12-03T10:16:27.913Z"
   },
   {
    "duration": 5,
    "start_time": "2024-12-03T10:16:27.917Z"
   },
   {
    "duration": 94,
    "start_time": "2024-12-03T10:16:27.923Z"
   },
   {
    "duration": 0,
    "start_time": "2024-12-03T10:16:28.019Z"
   },
   {
    "duration": 0,
    "start_time": "2024-12-03T10:16:28.020Z"
   },
   {
    "duration": 0,
    "start_time": "2024-12-03T10:16:28.021Z"
   },
   {
    "duration": 0,
    "start_time": "2024-12-03T10:16:28.022Z"
   },
   {
    "duration": 0,
    "start_time": "2024-12-03T10:16:28.023Z"
   },
   {
    "duration": 0,
    "start_time": "2024-12-03T10:16:28.024Z"
   },
   {
    "duration": 0,
    "start_time": "2024-12-03T10:16:28.025Z"
   },
   {
    "duration": 0,
    "start_time": "2024-12-03T10:16:28.026Z"
   },
   {
    "duration": 16,
    "start_time": "2024-12-03T10:17:54.177Z"
   },
   {
    "duration": 428,
    "start_time": "2024-12-03T10:18:45.485Z"
   },
   {
    "duration": 194,
    "start_time": "2024-12-03T10:18:45.915Z"
   },
   {
    "duration": 18,
    "start_time": "2024-12-03T10:18:46.110Z"
   },
   {
    "duration": 47,
    "start_time": "2024-12-03T10:18:46.129Z"
   },
   {
    "duration": 3,
    "start_time": "2024-12-03T10:18:46.178Z"
   },
   {
    "duration": 13,
    "start_time": "2024-12-03T10:18:46.182Z"
   },
   {
    "duration": 26,
    "start_time": "2024-12-03T10:18:46.197Z"
   },
   {
    "duration": 44,
    "start_time": "2024-12-03T10:18:46.225Z"
   },
   {
    "duration": 38,
    "start_time": "2024-12-03T10:18:46.270Z"
   },
   {
    "duration": 25,
    "start_time": "2024-12-03T10:18:46.309Z"
   },
   {
    "duration": 27,
    "start_time": "2024-12-03T10:18:46.335Z"
   },
   {
    "duration": 81,
    "start_time": "2024-12-03T10:18:46.364Z"
   },
   {
    "duration": 92,
    "start_time": "2024-12-03T10:18:46.446Z"
   },
   {
    "duration": 74,
    "start_time": "2024-12-03T10:18:46.541Z"
   },
   {
    "duration": 10,
    "start_time": "2024-12-03T10:18:46.617Z"
   },
   {
    "duration": 5,
    "start_time": "2024-12-03T10:18:46.628Z"
   },
   {
    "duration": 13,
    "start_time": "2024-12-03T10:18:46.635Z"
   },
   {
    "duration": 71,
    "start_time": "2024-12-03T10:18:46.650Z"
   },
   {
    "duration": 70,
    "start_time": "2024-12-03T10:18:46.722Z"
   },
   {
    "duration": 3,
    "start_time": "2024-12-03T10:18:46.794Z"
   },
   {
    "duration": 21,
    "start_time": "2024-12-03T10:18:46.798Z"
   },
   {
    "duration": 15,
    "start_time": "2024-12-03T10:18:46.821Z"
   },
   {
    "duration": 17,
    "start_time": "2024-12-03T10:18:46.837Z"
   },
   {
    "duration": 45,
    "start_time": "2024-12-03T10:18:46.856Z"
   },
   {
    "duration": 16,
    "start_time": "2024-12-03T10:18:46.902Z"
   },
   {
    "duration": 16,
    "start_time": "2024-12-03T10:18:46.920Z"
   },
   {
    "duration": 2,
    "start_time": "2024-12-03T10:18:46.938Z"
   },
   {
    "duration": 4,
    "start_time": "2024-12-03T10:18:46.941Z"
   },
   {
    "duration": 7,
    "start_time": "2024-12-03T10:18:46.946Z"
   },
   {
    "duration": 85,
    "start_time": "2024-12-03T10:18:46.954Z"
   },
   {
    "duration": 0,
    "start_time": "2024-12-03T10:18:47.041Z"
   },
   {
    "duration": 0,
    "start_time": "2024-12-03T10:18:47.042Z"
   },
   {
    "duration": 0,
    "start_time": "2024-12-03T10:18:47.042Z"
   },
   {
    "duration": 0,
    "start_time": "2024-12-03T10:18:47.044Z"
   },
   {
    "duration": 0,
    "start_time": "2024-12-03T10:18:47.045Z"
   },
   {
    "duration": 0,
    "start_time": "2024-12-03T10:18:47.046Z"
   },
   {
    "duration": 0,
    "start_time": "2024-12-03T10:18:47.047Z"
   },
   {
    "duration": 0,
    "start_time": "2024-12-03T10:18:47.048Z"
   },
   {
    "duration": 69,
    "start_time": "2024-12-03T10:25:37.527Z"
   },
   {
    "duration": 8,
    "start_time": "2024-12-03T10:26:01.875Z"
   },
   {
    "duration": 9,
    "start_time": "2024-12-03T10:26:49.661Z"
   },
   {
    "duration": 8,
    "start_time": "2024-12-03T10:27:07.792Z"
   },
   {
    "duration": 15,
    "start_time": "2024-12-03T11:15:42.226Z"
   },
   {
    "duration": 15,
    "start_time": "2024-12-03T11:15:43.568Z"
   },
   {
    "duration": 4,
    "start_time": "2024-12-03T11:20:34.609Z"
   },
   {
    "duration": 18,
    "start_time": "2024-12-03T11:23:35.788Z"
   },
   {
    "duration": 13,
    "start_time": "2024-12-03T11:23:58.156Z"
   },
   {
    "duration": 20,
    "start_time": "2024-12-03T11:24:34.353Z"
   },
   {
    "duration": 15,
    "start_time": "2024-12-03T11:24:37.492Z"
   },
   {
    "duration": 9,
    "start_time": "2024-12-03T11:27:04.561Z"
   },
   {
    "duration": 5,
    "start_time": "2024-12-03T11:27:20.244Z"
   },
   {
    "duration": 6,
    "start_time": "2024-12-03T11:28:26.948Z"
   },
   {
    "duration": 6,
    "start_time": "2024-12-03T11:28:40.397Z"
   },
   {
    "duration": 5,
    "start_time": "2024-12-03T11:29:15.925Z"
   },
   {
    "duration": 5,
    "start_time": "2024-12-03T11:29:22.940Z"
   },
   {
    "duration": 14,
    "start_time": "2024-12-03T11:36:41.522Z"
   },
   {
    "duration": 10,
    "start_time": "2024-12-03T11:36:45.154Z"
   },
   {
    "duration": 394,
    "start_time": "2024-12-03T11:37:46.110Z"
   },
   {
    "duration": 180,
    "start_time": "2024-12-03T11:37:46.506Z"
   },
   {
    "duration": 18,
    "start_time": "2024-12-03T11:37:46.688Z"
   },
   {
    "duration": 32,
    "start_time": "2024-12-03T11:37:46.708Z"
   },
   {
    "duration": 3,
    "start_time": "2024-12-03T11:37:46.742Z"
   },
   {
    "duration": 6,
    "start_time": "2024-12-03T11:37:46.746Z"
   },
   {
    "duration": 11,
    "start_time": "2024-12-03T11:37:46.753Z"
   },
   {
    "duration": 29,
    "start_time": "2024-12-03T11:37:46.766Z"
   },
   {
    "duration": 31,
    "start_time": "2024-12-03T11:37:46.796Z"
   },
   {
    "duration": 52,
    "start_time": "2024-12-03T11:37:46.829Z"
   },
   {
    "duration": 32,
    "start_time": "2024-12-03T11:37:46.883Z"
   },
   {
    "duration": 77,
    "start_time": "2024-12-03T11:37:46.917Z"
   },
   {
    "duration": 81,
    "start_time": "2024-12-03T11:37:46.996Z"
   },
   {
    "duration": 62,
    "start_time": "2024-12-03T11:37:47.091Z"
   },
   {
    "duration": 10,
    "start_time": "2024-12-03T11:37:47.154Z"
   },
   {
    "duration": 30,
    "start_time": "2024-12-03T11:37:47.165Z"
   },
   {
    "duration": 9,
    "start_time": "2024-12-03T11:37:47.197Z"
   },
   {
    "duration": 46,
    "start_time": "2024-12-03T11:37:47.208Z"
   },
   {
    "duration": 79,
    "start_time": "2024-12-03T11:37:47.256Z"
   },
   {
    "duration": 3,
    "start_time": "2024-12-03T11:37:47.337Z"
   },
   {
    "duration": 27,
    "start_time": "2024-12-03T11:37:47.341Z"
   },
   {
    "duration": 28,
    "start_time": "2024-12-03T11:37:47.369Z"
   },
   {
    "duration": 15,
    "start_time": "2024-12-03T11:37:47.399Z"
   },
   {
    "duration": 33,
    "start_time": "2024-12-03T11:37:47.416Z"
   },
   {
    "duration": 17,
    "start_time": "2024-12-03T11:37:47.450Z"
   },
   {
    "duration": 25,
    "start_time": "2024-12-03T11:37:47.468Z"
   },
   {
    "duration": 11,
    "start_time": "2024-12-03T11:37:47.495Z"
   },
   {
    "duration": 27,
    "start_time": "2024-12-03T11:37:47.508Z"
   },
   {
    "duration": 15,
    "start_time": "2024-12-03T11:37:47.537Z"
   },
   {
    "duration": 5,
    "start_time": "2024-12-03T11:37:47.554Z"
   },
   {
    "duration": 41,
    "start_time": "2024-12-03T11:37:47.560Z"
   },
   {
    "duration": 15,
    "start_time": "2024-12-03T11:37:47.603Z"
   },
   {
    "duration": 19,
    "start_time": "2024-12-03T11:37:47.620Z"
   },
   {
    "duration": 12,
    "start_time": "2024-12-03T11:37:47.641Z"
   },
   {
    "duration": 10,
    "start_time": "2024-12-03T11:37:47.654Z"
   },
   {
    "duration": 6,
    "start_time": "2024-12-03T11:37:47.691Z"
   },
   {
    "duration": 10,
    "start_time": "2024-12-03T11:37:47.698Z"
   },
   {
    "duration": 5,
    "start_time": "2024-12-03T11:37:47.709Z"
   },
   {
    "duration": 416,
    "start_time": "2024-12-03T11:38:33.751Z"
   },
   {
    "duration": 177,
    "start_time": "2024-12-03T11:38:34.169Z"
   },
   {
    "duration": 23,
    "start_time": "2024-12-03T11:38:34.348Z"
   },
   {
    "duration": 45,
    "start_time": "2024-12-03T11:38:34.373Z"
   },
   {
    "duration": 3,
    "start_time": "2024-12-03T11:38:34.420Z"
   },
   {
    "duration": 6,
    "start_time": "2024-12-03T11:38:34.424Z"
   },
   {
    "duration": 21,
    "start_time": "2024-12-03T11:38:34.431Z"
   },
   {
    "duration": 40,
    "start_time": "2024-12-03T11:38:34.453Z"
   },
   {
    "duration": 29,
    "start_time": "2024-12-03T11:38:34.495Z"
   },
   {
    "duration": 23,
    "start_time": "2024-12-03T11:38:34.525Z"
   },
   {
    "duration": 26,
    "start_time": "2024-12-03T11:38:34.549Z"
   },
   {
    "duration": 82,
    "start_time": "2024-12-03T11:38:34.576Z"
   },
   {
    "duration": 84,
    "start_time": "2024-12-03T11:38:34.659Z"
   },
   {
    "duration": 73,
    "start_time": "2024-12-03T11:38:34.747Z"
   },
   {
    "duration": 10,
    "start_time": "2024-12-03T11:38:34.821Z"
   },
   {
    "duration": 12,
    "start_time": "2024-12-03T11:38:34.832Z"
   },
   {
    "duration": 40,
    "start_time": "2024-12-03T11:38:34.845Z"
   },
   {
    "duration": 51,
    "start_time": "2024-12-03T11:38:34.886Z"
   },
   {
    "duration": 67,
    "start_time": "2024-12-03T11:38:34.939Z"
   },
   {
    "duration": 3,
    "start_time": "2024-12-03T11:38:35.008Z"
   },
   {
    "duration": 38,
    "start_time": "2024-12-03T11:38:35.012Z"
   },
   {
    "duration": 15,
    "start_time": "2024-12-03T11:38:35.052Z"
   },
   {
    "duration": 18,
    "start_time": "2024-12-03T11:38:35.069Z"
   },
   {
    "duration": 36,
    "start_time": "2024-12-03T11:38:35.089Z"
   },
   {
    "duration": 17,
    "start_time": "2024-12-03T11:38:35.127Z"
   },
   {
    "duration": 17,
    "start_time": "2024-12-03T11:38:35.146Z"
   },
   {
    "duration": 9,
    "start_time": "2024-12-03T11:38:35.164Z"
   },
   {
    "duration": 24,
    "start_time": "2024-12-03T11:38:35.174Z"
   },
   {
    "duration": 16,
    "start_time": "2024-12-03T11:38:35.199Z"
   },
   {
    "duration": 19,
    "start_time": "2024-12-03T11:38:35.216Z"
   },
   {
    "duration": 31,
    "start_time": "2024-12-03T11:38:35.237Z"
   },
   {
    "duration": 25,
    "start_time": "2024-12-03T11:38:35.269Z"
   },
   {
    "duration": 24,
    "start_time": "2024-12-03T11:38:35.295Z"
   },
   {
    "duration": 22,
    "start_time": "2024-12-03T11:38:35.321Z"
   },
   {
    "duration": 58,
    "start_time": "2024-12-03T11:38:35.345Z"
   },
   {
    "duration": 6,
    "start_time": "2024-12-03T11:38:35.406Z"
   },
   {
    "duration": 51,
    "start_time": "2024-12-03T11:38:35.413Z"
   },
   {
    "duration": 5,
    "start_time": "2024-12-03T11:38:35.466Z"
   },
   {
    "duration": 424,
    "start_time": "2024-12-03T11:39:55.473Z"
   },
   {
    "duration": 182,
    "start_time": "2024-12-03T11:39:55.899Z"
   },
   {
    "duration": 22,
    "start_time": "2024-12-03T11:39:56.083Z"
   },
   {
    "duration": 62,
    "start_time": "2024-12-03T11:39:56.107Z"
   },
   {
    "duration": 4,
    "start_time": "2024-12-03T11:39:56.171Z"
   },
   {
    "duration": 7,
    "start_time": "2024-12-03T11:39:56.177Z"
   },
   {
    "duration": 11,
    "start_time": "2024-12-03T11:39:56.186Z"
   },
   {
    "duration": 6,
    "start_time": "2024-12-03T11:39:56.198Z"
   },
   {
    "duration": 27,
    "start_time": "2024-12-03T11:39:56.205Z"
   },
   {
    "duration": 22,
    "start_time": "2024-12-03T11:39:56.236Z"
   },
   {
    "duration": 45,
    "start_time": "2024-12-03T11:39:56.259Z"
   },
   {
    "duration": 67,
    "start_time": "2024-12-03T11:39:56.306Z"
   },
   {
    "duration": 81,
    "start_time": "2024-12-03T11:39:56.393Z"
   },
   {
    "duration": 74,
    "start_time": "2024-12-03T11:39:56.476Z"
   },
   {
    "duration": 11,
    "start_time": "2024-12-03T11:39:56.552Z"
   },
   {
    "duration": 29,
    "start_time": "2024-12-03T11:39:56.565Z"
   },
   {
    "duration": 10,
    "start_time": "2024-12-03T11:39:56.595Z"
   },
   {
    "duration": 20,
    "start_time": "2024-12-03T11:39:56.606Z"
   },
   {
    "duration": 86,
    "start_time": "2024-12-03T11:39:56.628Z"
   },
   {
    "duration": 3,
    "start_time": "2024-12-03T11:39:56.715Z"
   },
   {
    "duration": 20,
    "start_time": "2024-12-03T11:39:56.719Z"
   },
   {
    "duration": 23,
    "start_time": "2024-12-03T11:39:56.740Z"
   },
   {
    "duration": 29,
    "start_time": "2024-12-03T11:39:56.764Z"
   },
   {
    "duration": 14,
    "start_time": "2024-12-03T11:39:56.794Z"
   },
   {
    "duration": 16,
    "start_time": "2024-12-03T11:39:56.809Z"
   },
   {
    "duration": 14,
    "start_time": "2024-12-03T11:39:56.826Z"
   },
   {
    "duration": 8,
    "start_time": "2024-12-03T11:39:56.841Z"
   },
   {
    "duration": 62,
    "start_time": "2024-12-03T11:39:56.852Z"
   },
   {
    "duration": 10,
    "start_time": "2024-12-03T11:39:56.916Z"
   },
   {
    "duration": 4,
    "start_time": "2024-12-03T11:39:56.928Z"
   },
   {
    "duration": 24,
    "start_time": "2024-12-03T11:39:56.933Z"
   },
   {
    "duration": 11,
    "start_time": "2024-12-03T11:39:56.959Z"
   },
   {
    "duration": 18,
    "start_time": "2024-12-03T11:39:56.971Z"
   },
   {
    "duration": 12,
    "start_time": "2024-12-03T11:39:56.990Z"
   },
   {
    "duration": 9,
    "start_time": "2024-12-03T11:39:57.004Z"
   },
   {
    "duration": 11,
    "start_time": "2024-12-03T11:39:57.015Z"
   },
   {
    "duration": 11,
    "start_time": "2024-12-03T11:39:57.028Z"
   },
   {
    "duration": 8,
    "start_time": "2024-12-03T11:39:57.041Z"
   },
   {
    "duration": 13,
    "start_time": "2024-12-03T11:40:40.454Z"
   },
   {
    "duration": 452,
    "start_time": "2024-12-03T11:40:46.095Z"
   },
   {
    "duration": 182,
    "start_time": "2024-12-03T11:40:46.549Z"
   },
   {
    "duration": 17,
    "start_time": "2024-12-03T11:40:46.734Z"
   },
   {
    "duration": 46,
    "start_time": "2024-12-03T11:40:46.753Z"
   },
   {
    "duration": 3,
    "start_time": "2024-12-03T11:40:46.802Z"
   },
   {
    "duration": 6,
    "start_time": "2024-12-03T11:40:46.806Z"
   },
   {
    "duration": 12,
    "start_time": "2024-12-03T11:40:46.813Z"
   },
   {
    "duration": 4,
    "start_time": "2024-12-03T11:40:46.827Z"
   },
   {
    "duration": 60,
    "start_time": "2024-12-03T11:40:46.832Z"
   },
   {
    "duration": 38,
    "start_time": "2024-12-03T11:40:46.894Z"
   },
   {
    "duration": 28,
    "start_time": "2024-12-03T11:40:46.934Z"
   },
   {
    "duration": 79,
    "start_time": "2024-12-03T11:40:46.963Z"
   },
   {
    "duration": 95,
    "start_time": "2024-12-03T11:40:47.044Z"
   },
   {
    "duration": 61,
    "start_time": "2024-12-03T11:40:47.142Z"
   },
   {
    "duration": 15,
    "start_time": "2024-12-03T11:40:47.204Z"
   },
   {
    "duration": 12,
    "start_time": "2024-12-03T11:40:47.224Z"
   },
   {
    "duration": 9,
    "start_time": "2024-12-03T11:40:47.238Z"
   },
   {
    "duration": 12,
    "start_time": "2024-12-03T11:40:47.248Z"
   },
   {
    "duration": 74,
    "start_time": "2024-12-03T11:40:47.261Z"
   },
   {
    "duration": 0,
    "start_time": "2024-12-03T11:40:47.337Z"
   },
   {
    "duration": 0,
    "start_time": "2024-12-03T11:40:47.339Z"
   },
   {
    "duration": 0,
    "start_time": "2024-12-03T11:40:47.340Z"
   },
   {
    "duration": 0,
    "start_time": "2024-12-03T11:40:47.341Z"
   },
   {
    "duration": 0,
    "start_time": "2024-12-03T11:40:47.342Z"
   },
   {
    "duration": 0,
    "start_time": "2024-12-03T11:40:47.343Z"
   },
   {
    "duration": 0,
    "start_time": "2024-12-03T11:40:47.344Z"
   },
   {
    "duration": 0,
    "start_time": "2024-12-03T11:40:47.344Z"
   },
   {
    "duration": 0,
    "start_time": "2024-12-03T11:40:47.345Z"
   },
   {
    "duration": 0,
    "start_time": "2024-12-03T11:40:47.346Z"
   },
   {
    "duration": 0,
    "start_time": "2024-12-03T11:40:47.347Z"
   },
   {
    "duration": 0,
    "start_time": "2024-12-03T11:40:47.348Z"
   },
   {
    "duration": 0,
    "start_time": "2024-12-03T11:40:47.349Z"
   },
   {
    "duration": 0,
    "start_time": "2024-12-03T11:40:47.350Z"
   },
   {
    "duration": 0,
    "start_time": "2024-12-03T11:40:47.351Z"
   },
   {
    "duration": 0,
    "start_time": "2024-12-03T11:40:47.352Z"
   },
   {
    "duration": 0,
    "start_time": "2024-12-03T11:40:47.353Z"
   },
   {
    "duration": 0,
    "start_time": "2024-12-03T11:40:47.354Z"
   },
   {
    "duration": 0,
    "start_time": "2024-12-03T11:40:47.355Z"
   },
   {
    "duration": 511,
    "start_time": "2024-12-03T11:41:13.446Z"
   },
   {
    "duration": 194,
    "start_time": "2024-12-03T11:41:13.958Z"
   },
   {
    "duration": 17,
    "start_time": "2024-12-03T11:41:14.153Z"
   },
   {
    "duration": 40,
    "start_time": "2024-12-03T11:41:14.172Z"
   },
   {
    "duration": 24,
    "start_time": "2024-12-03T11:41:14.214Z"
   },
   {
    "duration": 13,
    "start_time": "2024-12-03T11:41:14.240Z"
   },
   {
    "duration": 21,
    "start_time": "2024-12-03T11:41:14.254Z"
   },
   {
    "duration": 10,
    "start_time": "2024-12-03T11:41:14.277Z"
   },
   {
    "duration": 34,
    "start_time": "2024-12-03T11:41:14.288Z"
   },
   {
    "duration": 22,
    "start_time": "2024-12-03T11:41:14.324Z"
   },
   {
    "duration": 56,
    "start_time": "2024-12-03T11:41:14.347Z"
   },
   {
    "duration": 103,
    "start_time": "2024-12-03T11:41:14.405Z"
   },
   {
    "duration": 120,
    "start_time": "2024-12-03T11:41:14.509Z"
   },
   {
    "duration": 63,
    "start_time": "2024-12-03T11:41:14.631Z"
   },
   {
    "duration": 10,
    "start_time": "2024-12-03T11:41:14.695Z"
   },
   {
    "duration": 16,
    "start_time": "2024-12-03T11:41:14.707Z"
   },
   {
    "duration": 11,
    "start_time": "2024-12-03T11:41:14.724Z"
   },
   {
    "duration": 13,
    "start_time": "2024-12-03T11:41:14.736Z"
   },
   {
    "duration": 97,
    "start_time": "2024-12-03T11:41:14.750Z"
   },
   {
    "duration": 0,
    "start_time": "2024-12-03T11:41:14.848Z"
   },
   {
    "duration": 1,
    "start_time": "2024-12-03T11:41:14.849Z"
   },
   {
    "duration": 0,
    "start_time": "2024-12-03T11:41:14.850Z"
   },
   {
    "duration": 0,
    "start_time": "2024-12-03T11:41:14.851Z"
   },
   {
    "duration": 0,
    "start_time": "2024-12-03T11:41:14.852Z"
   },
   {
    "duration": 0,
    "start_time": "2024-12-03T11:41:14.853Z"
   },
   {
    "duration": 0,
    "start_time": "2024-12-03T11:41:14.854Z"
   },
   {
    "duration": 0,
    "start_time": "2024-12-03T11:41:14.856Z"
   },
   {
    "duration": 0,
    "start_time": "2024-12-03T11:41:14.856Z"
   },
   {
    "duration": 0,
    "start_time": "2024-12-03T11:41:14.857Z"
   },
   {
    "duration": 0,
    "start_time": "2024-12-03T11:41:14.858Z"
   },
   {
    "duration": 0,
    "start_time": "2024-12-03T11:41:14.859Z"
   },
   {
    "duration": 0,
    "start_time": "2024-12-03T11:41:14.860Z"
   },
   {
    "duration": 0,
    "start_time": "2024-12-03T11:41:14.861Z"
   },
   {
    "duration": 0,
    "start_time": "2024-12-03T11:41:14.862Z"
   },
   {
    "duration": 0,
    "start_time": "2024-12-03T11:41:14.863Z"
   },
   {
    "duration": 0,
    "start_time": "2024-12-03T11:41:14.864Z"
   },
   {
    "duration": 0,
    "start_time": "2024-12-03T11:41:14.865Z"
   },
   {
    "duration": 0,
    "start_time": "2024-12-03T11:41:14.892Z"
   },
   {
    "duration": 386,
    "start_time": "2024-12-03T11:41:54.530Z"
   },
   {
    "duration": 190,
    "start_time": "2024-12-03T11:41:54.917Z"
   },
   {
    "duration": 17,
    "start_time": "2024-12-03T11:41:55.109Z"
   },
   {
    "duration": 33,
    "start_time": "2024-12-03T11:41:55.128Z"
   },
   {
    "duration": 2,
    "start_time": "2024-12-03T11:41:55.163Z"
   },
   {
    "duration": 26,
    "start_time": "2024-12-03T11:41:55.167Z"
   },
   {
    "duration": 11,
    "start_time": "2024-12-03T11:41:55.194Z"
   },
   {
    "duration": 5,
    "start_time": "2024-12-03T11:41:55.208Z"
   },
   {
    "duration": 34,
    "start_time": "2024-12-03T11:41:55.216Z"
   },
   {
    "duration": 41,
    "start_time": "2024-12-03T11:41:55.251Z"
   },
   {
    "duration": 27,
    "start_time": "2024-12-03T11:41:55.294Z"
   },
   {
    "duration": 83,
    "start_time": "2024-12-03T11:41:55.323Z"
   },
   {
    "duration": 84,
    "start_time": "2024-12-03T11:41:55.408Z"
   },
   {
    "duration": 62,
    "start_time": "2024-12-03T11:41:55.496Z"
   },
   {
    "duration": 10,
    "start_time": "2024-12-03T11:41:55.559Z"
   },
   {
    "duration": 28,
    "start_time": "2024-12-03T11:41:55.571Z"
   },
   {
    "duration": 10,
    "start_time": "2024-12-03T11:41:55.600Z"
   },
   {
    "duration": 14,
    "start_time": "2024-12-03T11:41:55.611Z"
   },
   {
    "duration": 86,
    "start_time": "2024-12-03T11:41:55.627Z"
   },
   {
    "duration": 0,
    "start_time": "2024-12-03T11:41:55.715Z"
   },
   {
    "duration": 0,
    "start_time": "2024-12-03T11:41:55.716Z"
   },
   {
    "duration": 0,
    "start_time": "2024-12-03T11:41:55.717Z"
   },
   {
    "duration": 0,
    "start_time": "2024-12-03T11:41:55.718Z"
   },
   {
    "duration": 0,
    "start_time": "2024-12-03T11:41:55.719Z"
   },
   {
    "duration": 0,
    "start_time": "2024-12-03T11:41:55.720Z"
   },
   {
    "duration": 0,
    "start_time": "2024-12-03T11:41:55.721Z"
   },
   {
    "duration": 0,
    "start_time": "2024-12-03T11:41:55.722Z"
   },
   {
    "duration": 0,
    "start_time": "2024-12-03T11:41:55.723Z"
   },
   {
    "duration": 0,
    "start_time": "2024-12-03T11:41:55.724Z"
   },
   {
    "duration": 0,
    "start_time": "2024-12-03T11:41:55.725Z"
   },
   {
    "duration": 0,
    "start_time": "2024-12-03T11:41:55.726Z"
   },
   {
    "duration": 0,
    "start_time": "2024-12-03T11:41:55.727Z"
   },
   {
    "duration": 0,
    "start_time": "2024-12-03T11:41:55.728Z"
   },
   {
    "duration": 0,
    "start_time": "2024-12-03T11:41:55.729Z"
   },
   {
    "duration": 0,
    "start_time": "2024-12-03T11:41:55.730Z"
   },
   {
    "duration": 0,
    "start_time": "2024-12-03T11:41:55.731Z"
   },
   {
    "duration": 0,
    "start_time": "2024-12-03T11:41:55.732Z"
   },
   {
    "duration": 0,
    "start_time": "2024-12-03T11:41:55.732Z"
   },
   {
    "duration": 418,
    "start_time": "2024-12-03T11:42:27.356Z"
   },
   {
    "duration": 175,
    "start_time": "2024-12-03T11:42:27.776Z"
   },
   {
    "duration": 17,
    "start_time": "2024-12-03T11:42:27.952Z"
   },
   {
    "duration": 40,
    "start_time": "2024-12-03T11:42:27.970Z"
   },
   {
    "duration": 2,
    "start_time": "2024-12-03T11:42:28.013Z"
   },
   {
    "duration": 7,
    "start_time": "2024-12-03T11:42:28.016Z"
   },
   {
    "duration": 21,
    "start_time": "2024-12-03T11:42:28.024Z"
   },
   {
    "duration": 5,
    "start_time": "2024-12-03T11:42:28.047Z"
   },
   {
    "duration": 42,
    "start_time": "2024-12-03T11:42:28.053Z"
   },
   {
    "duration": 73,
    "start_time": "2024-12-03T11:42:28.097Z"
   },
   {
    "duration": 51,
    "start_time": "2024-12-03T11:42:28.173Z"
   },
   {
    "duration": 107,
    "start_time": "2024-12-03T11:42:28.227Z"
   },
   {
    "duration": 85,
    "start_time": "2024-12-03T11:42:28.336Z"
   },
   {
    "duration": 66,
    "start_time": "2024-12-03T11:42:28.426Z"
   },
   {
    "duration": 9,
    "start_time": "2024-12-03T11:42:28.494Z"
   },
   {
    "duration": 36,
    "start_time": "2024-12-03T11:42:28.504Z"
   },
   {
    "duration": 11,
    "start_time": "2024-12-03T11:42:28.541Z"
   },
   {
    "duration": 45,
    "start_time": "2024-12-03T11:42:28.554Z"
   },
   {
    "duration": 59,
    "start_time": "2024-12-03T11:42:28.601Z"
   },
   {
    "duration": 3,
    "start_time": "2024-12-03T11:42:28.661Z"
   },
   {
    "duration": 40,
    "start_time": "2024-12-03T11:42:28.666Z"
   },
   {
    "duration": 16,
    "start_time": "2024-12-03T11:42:28.707Z"
   },
   {
    "duration": 16,
    "start_time": "2024-12-03T11:42:28.724Z"
   },
   {
    "duration": 15,
    "start_time": "2024-12-03T11:42:28.741Z"
   },
   {
    "duration": 46,
    "start_time": "2024-12-03T11:42:28.758Z"
   },
   {
    "duration": 28,
    "start_time": "2024-12-03T11:42:28.806Z"
   },
   {
    "duration": 8,
    "start_time": "2024-12-03T11:42:28.835Z"
   },
   {
    "duration": 10,
    "start_time": "2024-12-03T11:42:28.845Z"
   },
   {
    "duration": 83,
    "start_time": "2024-12-03T11:42:28.857Z"
   },
   {
    "duration": 4,
    "start_time": "2024-12-03T11:42:28.942Z"
   },
   {
    "duration": 17,
    "start_time": "2024-12-03T11:42:28.948Z"
   },
   {
    "duration": 11,
    "start_time": "2024-12-03T11:42:28.966Z"
   },
   {
    "duration": 17,
    "start_time": "2024-12-03T11:42:28.979Z"
   },
   {
    "duration": 12,
    "start_time": "2024-12-03T11:42:28.997Z"
   },
   {
    "duration": 10,
    "start_time": "2024-12-03T11:42:29.010Z"
   },
   {
    "duration": 8,
    "start_time": "2024-12-03T11:42:29.021Z"
   },
   {
    "duration": 8,
    "start_time": "2024-12-03T11:42:29.030Z"
   },
   {
    "duration": 5,
    "start_time": "2024-12-03T11:42:29.039Z"
   },
   {
    "duration": 60,
    "start_time": "2024-12-03T11:43:41.321Z"
   },
   {
    "duration": 386,
    "start_time": "2024-12-03T11:43:46.417Z"
   },
   {
    "duration": 175,
    "start_time": "2024-12-03T11:43:46.804Z"
   },
   {
    "duration": 18,
    "start_time": "2024-12-03T11:43:46.984Z"
   },
   {
    "duration": 32,
    "start_time": "2024-12-03T11:43:47.004Z"
   },
   {
    "duration": 3,
    "start_time": "2024-12-03T11:43:47.037Z"
   },
   {
    "duration": 5,
    "start_time": "2024-12-03T11:43:47.042Z"
   },
   {
    "duration": 12,
    "start_time": "2024-12-03T11:43:47.048Z"
   },
   {
    "duration": 32,
    "start_time": "2024-12-03T11:43:47.061Z"
   },
   {
    "duration": 27,
    "start_time": "2024-12-03T11:43:47.095Z"
   },
   {
    "duration": 19,
    "start_time": "2024-12-03T11:43:47.124Z"
   },
   {
    "duration": 49,
    "start_time": "2024-12-03T11:43:47.144Z"
   },
   {
    "duration": 66,
    "start_time": "2024-12-03T11:43:47.194Z"
   },
   {
    "duration": 95,
    "start_time": "2024-12-03T11:43:47.262Z"
   },
   {
    "duration": 63,
    "start_time": "2024-12-03T11:43:47.359Z"
   },
   {
    "duration": 9,
    "start_time": "2024-12-03T11:43:47.423Z"
   },
   {
    "duration": 11,
    "start_time": "2024-12-03T11:43:47.433Z"
   },
   {
    "duration": 9,
    "start_time": "2024-12-03T11:43:47.446Z"
   },
   {
    "duration": 77,
    "start_time": "2024-12-03T11:43:47.456Z"
   },
   {
    "duration": 72,
    "start_time": "2024-12-03T11:43:47.535Z"
   },
   {
    "duration": 3,
    "start_time": "2024-12-03T11:43:47.609Z"
   },
   {
    "duration": 23,
    "start_time": "2024-12-03T11:43:47.613Z"
   },
   {
    "duration": 16,
    "start_time": "2024-12-03T11:43:47.638Z"
   },
   {
    "duration": 15,
    "start_time": "2024-12-03T11:43:47.655Z"
   },
   {
    "duration": 32,
    "start_time": "2024-12-03T11:43:47.671Z"
   },
   {
    "duration": 17,
    "start_time": "2024-12-03T11:43:47.704Z"
   },
   {
    "duration": 15,
    "start_time": "2024-12-03T11:43:47.723Z"
   },
   {
    "duration": 9,
    "start_time": "2024-12-03T11:43:47.741Z"
   },
   {
    "duration": 44,
    "start_time": "2024-12-03T11:43:47.751Z"
   },
   {
    "duration": 13,
    "start_time": "2024-12-03T11:43:47.796Z"
   },
   {
    "duration": 4,
    "start_time": "2024-12-03T11:43:47.811Z"
   },
   {
    "duration": 18,
    "start_time": "2024-12-03T11:43:47.817Z"
   },
   {
    "duration": 11,
    "start_time": "2024-12-03T11:43:47.836Z"
   },
   {
    "duration": 44,
    "start_time": "2024-12-03T11:43:47.849Z"
   },
   {
    "duration": 13,
    "start_time": "2024-12-03T11:43:47.894Z"
   },
   {
    "duration": 9,
    "start_time": "2024-12-03T11:43:47.909Z"
   },
   {
    "duration": 4,
    "start_time": "2024-12-03T11:43:47.919Z"
   },
   {
    "duration": 19,
    "start_time": "2024-12-03T11:43:47.925Z"
   },
   {
    "duration": 5,
    "start_time": "2024-12-03T11:43:47.946Z"
   },
   {
    "duration": 411,
    "start_time": "2024-12-03T11:45:08.690Z"
   },
   {
    "duration": 192,
    "start_time": "2024-12-03T11:45:09.103Z"
   },
   {
    "duration": 19,
    "start_time": "2024-12-03T11:45:09.297Z"
   },
   {
    "duration": 41,
    "start_time": "2024-12-03T11:45:09.318Z"
   },
   {
    "duration": 3,
    "start_time": "2024-12-03T11:45:09.362Z"
   },
   {
    "duration": 25,
    "start_time": "2024-12-03T11:45:09.367Z"
   },
   {
    "duration": 12,
    "start_time": "2024-12-03T11:45:09.394Z"
   },
   {
    "duration": 7,
    "start_time": "2024-12-03T11:45:09.409Z"
   },
   {
    "duration": 34,
    "start_time": "2024-12-03T11:45:09.418Z"
   },
   {
    "duration": 45,
    "start_time": "2024-12-03T11:45:09.455Z"
   },
   {
    "duration": 28,
    "start_time": "2024-12-03T11:45:09.501Z"
   },
   {
    "duration": 85,
    "start_time": "2024-12-03T11:45:09.531Z"
   },
   {
    "duration": 92,
    "start_time": "2024-12-03T11:45:09.617Z"
   },
   {
    "duration": 66,
    "start_time": "2024-12-03T11:45:09.712Z"
   },
   {
    "duration": 18,
    "start_time": "2024-12-03T11:45:09.780Z"
   },
   {
    "duration": 11,
    "start_time": "2024-12-03T11:45:09.800Z"
   },
   {
    "duration": 20,
    "start_time": "2024-12-03T11:45:09.812Z"
   },
   {
    "duration": 69,
    "start_time": "2024-12-03T11:45:09.833Z"
   },
   {
    "duration": 29,
    "start_time": "2024-12-03T11:45:09.904Z"
   },
   {
    "duration": 3,
    "start_time": "2024-12-03T11:45:09.935Z"
   },
   {
    "duration": 27,
    "start_time": "2024-12-03T11:45:09.939Z"
   },
   {
    "duration": 29,
    "start_time": "2024-12-03T11:45:09.968Z"
   },
   {
    "duration": 16,
    "start_time": "2024-12-03T11:45:09.999Z"
   },
   {
    "duration": 14,
    "start_time": "2024-12-03T11:45:10.017Z"
   },
   {
    "duration": 17,
    "start_time": "2024-12-03T11:45:10.033Z"
   },
   {
    "duration": 46,
    "start_time": "2024-12-03T11:45:10.051Z"
   },
   {
    "duration": 8,
    "start_time": "2024-12-03T11:45:10.098Z"
   },
   {
    "duration": 12,
    "start_time": "2024-12-03T11:45:10.107Z"
   },
   {
    "duration": 9,
    "start_time": "2024-12-03T11:45:10.121Z"
   },
   {
    "duration": 3,
    "start_time": "2024-12-03T11:45:10.132Z"
   },
   {
    "duration": 20,
    "start_time": "2024-12-03T11:45:10.137Z"
   },
   {
    "duration": 35,
    "start_time": "2024-12-03T11:45:10.159Z"
   },
   {
    "duration": 19,
    "start_time": "2024-12-03T11:45:10.196Z"
   },
   {
    "duration": 12,
    "start_time": "2024-12-03T11:45:10.216Z"
   },
   {
    "duration": 9,
    "start_time": "2024-12-03T11:45:10.229Z"
   },
   {
    "duration": 9,
    "start_time": "2024-12-03T11:45:10.240Z"
   },
   {
    "duration": 16,
    "start_time": "2024-12-03T11:45:10.250Z"
   },
   {
    "duration": 25,
    "start_time": "2024-12-03T11:45:10.268Z"
   },
   {
    "duration": 3,
    "start_time": "2024-12-03T11:48:45.044Z"
   },
   {
    "duration": 28,
    "start_time": "2024-12-03T11:49:20.064Z"
   },
   {
    "duration": 423,
    "start_time": "2024-12-03T11:49:26.081Z"
   },
   {
    "duration": 175,
    "start_time": "2024-12-03T11:49:26.505Z"
   },
   {
    "duration": 15,
    "start_time": "2024-12-03T11:49:26.682Z"
   },
   {
    "duration": 36,
    "start_time": "2024-12-03T11:49:26.699Z"
   },
   {
    "duration": 3,
    "start_time": "2024-12-03T11:49:26.736Z"
   },
   {
    "duration": 5,
    "start_time": "2024-12-03T11:49:26.741Z"
   },
   {
    "duration": 11,
    "start_time": "2024-12-03T11:49:26.748Z"
   },
   {
    "duration": 4,
    "start_time": "2024-12-03T11:49:26.761Z"
   },
   {
    "duration": 28,
    "start_time": "2024-12-03T11:49:26.793Z"
   },
   {
    "duration": 22,
    "start_time": "2024-12-03T11:49:26.824Z"
   },
   {
    "duration": 52,
    "start_time": "2024-12-03T11:49:26.848Z"
   },
   {
    "duration": 91,
    "start_time": "2024-12-03T11:49:26.902Z"
   },
   {
    "duration": 81,
    "start_time": "2024-12-03T11:49:26.995Z"
   },
   {
    "duration": 69,
    "start_time": "2024-12-03T11:49:27.078Z"
   },
   {
    "duration": 11,
    "start_time": "2024-12-03T11:49:27.149Z"
   },
   {
    "duration": 33,
    "start_time": "2024-12-03T11:49:27.162Z"
   },
   {
    "duration": 12,
    "start_time": "2024-12-03T11:49:27.196Z"
   },
   {
    "duration": 27,
    "start_time": "2024-12-03T11:49:27.209Z"
   },
   {
    "duration": 28,
    "start_time": "2024-12-03T11:49:27.238Z"
   },
   {
    "duration": 4,
    "start_time": "2024-12-03T11:49:27.293Z"
   },
   {
    "duration": 29,
    "start_time": "2024-12-03T11:49:27.299Z"
   },
   {
    "duration": 16,
    "start_time": "2024-12-03T11:49:27.330Z"
   },
   {
    "duration": 15,
    "start_time": "2024-12-03T11:49:27.348Z"
   },
   {
    "duration": 30,
    "start_time": "2024-12-03T11:49:27.365Z"
   },
   {
    "duration": 25,
    "start_time": "2024-12-03T11:49:27.397Z"
   },
   {
    "duration": 14,
    "start_time": "2024-12-03T11:49:27.424Z"
   },
   {
    "duration": 35,
    "start_time": "2024-12-03T11:49:27.440Z"
   },
   {
    "duration": 23,
    "start_time": "2024-12-03T11:49:27.477Z"
   },
   {
    "duration": 15,
    "start_time": "2024-12-03T11:49:27.502Z"
   },
   {
    "duration": 45,
    "start_time": "2024-12-03T11:49:27.519Z"
   },
   {
    "duration": 21,
    "start_time": "2024-12-03T11:49:27.565Z"
   },
   {
    "duration": 10,
    "start_time": "2024-12-03T11:49:27.587Z"
   },
   {
    "duration": 17,
    "start_time": "2024-12-03T11:49:27.599Z"
   },
   {
    "duration": 11,
    "start_time": "2024-12-03T11:49:27.618Z"
   },
   {
    "duration": 8,
    "start_time": "2024-12-03T11:49:27.631Z"
   },
   {
    "duration": 19,
    "start_time": "2024-12-03T11:49:27.641Z"
   },
   {
    "duration": 6,
    "start_time": "2024-12-03T11:49:27.661Z"
   },
   {
    "duration": 25,
    "start_time": "2024-12-03T11:49:27.668Z"
   },
   {
    "duration": 15,
    "start_time": "2024-12-03T11:49:51.639Z"
   },
   {
    "duration": 396,
    "start_time": "2024-12-03T11:49:57.110Z"
   },
   {
    "duration": 179,
    "start_time": "2024-12-03T11:49:57.508Z"
   },
   {
    "duration": 16,
    "start_time": "2024-12-03T11:49:57.691Z"
   },
   {
    "duration": 33,
    "start_time": "2024-12-03T11:49:57.708Z"
   },
   {
    "duration": 2,
    "start_time": "2024-12-03T11:49:57.743Z"
   },
   {
    "duration": 7,
    "start_time": "2024-12-03T11:49:57.747Z"
   },
   {
    "duration": 21,
    "start_time": "2024-12-03T11:49:57.755Z"
   },
   {
    "duration": 15,
    "start_time": "2024-12-03T11:49:57.778Z"
   },
   {
    "duration": 28,
    "start_time": "2024-12-03T11:49:57.795Z"
   },
   {
    "duration": 21,
    "start_time": "2024-12-03T11:49:57.825Z"
   },
   {
    "duration": 48,
    "start_time": "2024-12-03T11:49:57.847Z"
   },
   {
    "duration": 66,
    "start_time": "2024-12-03T11:49:57.896Z"
   },
   {
    "duration": 99,
    "start_time": "2024-12-03T11:49:57.964Z"
   },
   {
    "duration": 66,
    "start_time": "2024-12-03T11:49:58.066Z"
   },
   {
    "duration": 10,
    "start_time": "2024-12-03T11:49:58.133Z"
   },
   {
    "duration": 63,
    "start_time": "2024-12-03T11:49:58.145Z"
   },
   {
    "duration": 12,
    "start_time": "2024-12-03T11:49:58.210Z"
   },
   {
    "duration": 18,
    "start_time": "2024-12-03T11:49:58.225Z"
   },
   {
    "duration": 89,
    "start_time": "2024-12-03T11:49:58.245Z"
   },
   {
    "duration": 0,
    "start_time": "2024-12-03T11:49:58.335Z"
   },
   {
    "duration": 0,
    "start_time": "2024-12-03T11:49:58.337Z"
   },
   {
    "duration": 0,
    "start_time": "2024-12-03T11:49:58.337Z"
   },
   {
    "duration": 0,
    "start_time": "2024-12-03T11:49:58.339Z"
   },
   {
    "duration": 0,
    "start_time": "2024-12-03T11:49:58.340Z"
   },
   {
    "duration": 0,
    "start_time": "2024-12-03T11:49:58.340Z"
   },
   {
    "duration": 0,
    "start_time": "2024-12-03T11:49:58.341Z"
   },
   {
    "duration": 0,
    "start_time": "2024-12-03T11:49:58.342Z"
   },
   {
    "duration": 0,
    "start_time": "2024-12-03T11:49:58.344Z"
   },
   {
    "duration": 0,
    "start_time": "2024-12-03T11:49:58.345Z"
   },
   {
    "duration": 0,
    "start_time": "2024-12-03T11:49:58.346Z"
   },
   {
    "duration": 0,
    "start_time": "2024-12-03T11:49:58.347Z"
   },
   {
    "duration": 0,
    "start_time": "2024-12-03T11:49:58.348Z"
   },
   {
    "duration": 0,
    "start_time": "2024-12-03T11:49:58.349Z"
   },
   {
    "duration": 0,
    "start_time": "2024-12-03T11:49:58.350Z"
   },
   {
    "duration": 0,
    "start_time": "2024-12-03T11:49:58.351Z"
   },
   {
    "duration": 0,
    "start_time": "2024-12-03T11:49:58.352Z"
   },
   {
    "duration": 0,
    "start_time": "2024-12-03T11:49:58.353Z"
   },
   {
    "duration": 1,
    "start_time": "2024-12-03T11:49:58.353Z"
   },
   {
    "duration": 7,
    "start_time": "2024-12-03T11:50:11.250Z"
   },
   {
    "duration": 26,
    "start_time": "2024-12-03T11:50:46.783Z"
   },
   {
    "duration": 442,
    "start_time": "2024-12-03T11:50:51.557Z"
   },
   {
    "duration": 179,
    "start_time": "2024-12-03T11:50:52.001Z"
   },
   {
    "duration": 20,
    "start_time": "2024-12-03T11:50:52.181Z"
   },
   {
    "duration": 32,
    "start_time": "2024-12-03T11:50:52.203Z"
   },
   {
    "duration": 2,
    "start_time": "2024-12-03T11:50:52.237Z"
   },
   {
    "duration": 5,
    "start_time": "2024-12-03T11:50:52.240Z"
   },
   {
    "duration": 11,
    "start_time": "2024-12-03T11:50:52.246Z"
   },
   {
    "duration": 5,
    "start_time": "2024-12-03T11:50:52.259Z"
   },
   {
    "duration": 56,
    "start_time": "2024-12-03T11:50:52.265Z"
   },
   {
    "duration": 20,
    "start_time": "2024-12-03T11:50:52.324Z"
   },
   {
    "duration": 26,
    "start_time": "2024-12-03T11:50:52.345Z"
   },
   {
    "duration": 85,
    "start_time": "2024-12-03T11:50:52.372Z"
   },
   {
    "duration": 89,
    "start_time": "2024-12-03T11:50:52.458Z"
   },
   {
    "duration": 65,
    "start_time": "2024-12-03T11:50:52.548Z"
   },
   {
    "duration": 10,
    "start_time": "2024-12-03T11:50:52.614Z"
   },
   {
    "duration": 11,
    "start_time": "2024-12-03T11:50:52.625Z"
   },
   {
    "duration": 10,
    "start_time": "2024-12-03T11:50:52.637Z"
   },
   {
    "duration": 48,
    "start_time": "2024-12-03T11:50:52.648Z"
   },
   {
    "duration": 27,
    "start_time": "2024-12-03T11:50:52.697Z"
   },
   {
    "duration": 3,
    "start_time": "2024-12-03T11:50:52.726Z"
   },
   {
    "duration": 21,
    "start_time": "2024-12-03T11:50:52.730Z"
   },
   {
    "duration": 16,
    "start_time": "2024-12-03T11:50:52.752Z"
   },
   {
    "duration": 35,
    "start_time": "2024-12-03T11:50:52.769Z"
   },
   {
    "duration": 13,
    "start_time": "2024-12-03T11:50:52.805Z"
   },
   {
    "duration": 16,
    "start_time": "2024-12-03T11:50:52.820Z"
   },
   {
    "duration": 16,
    "start_time": "2024-12-03T11:50:52.837Z"
   },
   {
    "duration": 8,
    "start_time": "2024-12-03T11:50:52.854Z"
   },
   {
    "duration": 13,
    "start_time": "2024-12-03T11:50:52.891Z"
   },
   {
    "duration": 61,
    "start_time": "2024-12-03T11:50:52.905Z"
   },
   {
    "duration": 4,
    "start_time": "2024-12-03T11:50:52.967Z"
   },
   {
    "duration": 16,
    "start_time": "2024-12-03T11:50:52.973Z"
   },
   {
    "duration": 11,
    "start_time": "2024-12-03T11:50:52.990Z"
   },
   {
    "duration": 46,
    "start_time": "2024-12-03T11:50:53.003Z"
   },
   {
    "duration": 16,
    "start_time": "2024-12-03T11:50:53.050Z"
   },
   {
    "duration": 8,
    "start_time": "2024-12-03T11:50:53.067Z"
   },
   {
    "duration": 14,
    "start_time": "2024-12-03T11:50:53.076Z"
   },
   {
    "duration": 7,
    "start_time": "2024-12-03T11:50:53.091Z"
   },
   {
    "duration": 14,
    "start_time": "2024-12-03T11:50:53.100Z"
   },
   {
    "duration": 377,
    "start_time": "2024-12-03T11:52:26.914Z"
   },
   {
    "duration": 174,
    "start_time": "2024-12-03T11:52:27.293Z"
   },
   {
    "duration": 24,
    "start_time": "2024-12-03T11:52:27.469Z"
   },
   {
    "duration": 32,
    "start_time": "2024-12-03T11:52:27.494Z"
   },
   {
    "duration": 2,
    "start_time": "2024-12-03T11:52:27.528Z"
   },
   {
    "duration": 15,
    "start_time": "2024-12-03T11:52:27.531Z"
   },
   {
    "duration": 23,
    "start_time": "2024-12-03T11:52:27.548Z"
   },
   {
    "duration": 16,
    "start_time": "2024-12-03T11:52:27.573Z"
   },
   {
    "duration": 33,
    "start_time": "2024-12-03T11:52:27.591Z"
   },
   {
    "duration": 26,
    "start_time": "2024-12-03T11:52:27.625Z"
   },
   {
    "duration": 26,
    "start_time": "2024-12-03T11:52:27.652Z"
   },
   {
    "duration": 78,
    "start_time": "2024-12-03T11:52:27.679Z"
   },
   {
    "duration": 90,
    "start_time": "2024-12-03T11:52:27.758Z"
   },
   {
    "duration": 73,
    "start_time": "2024-12-03T11:52:27.852Z"
   },
   {
    "duration": 9,
    "start_time": "2024-12-03T11:52:27.927Z"
   },
   {
    "duration": 11,
    "start_time": "2024-12-03T11:52:27.938Z"
   },
   {
    "duration": 18,
    "start_time": "2024-12-03T11:52:27.951Z"
   },
   {
    "duration": 42,
    "start_time": "2024-12-03T11:52:27.970Z"
   },
   {
    "duration": 29,
    "start_time": "2024-12-03T11:52:28.014Z"
   },
   {
    "duration": 4,
    "start_time": "2024-12-03T11:52:28.044Z"
   },
   {
    "duration": 20,
    "start_time": "2024-12-03T11:52:28.049Z"
   },
   {
    "duration": 36,
    "start_time": "2024-12-03T11:52:28.071Z"
   },
   {
    "duration": 16,
    "start_time": "2024-12-03T11:52:28.109Z"
   },
   {
    "duration": 15,
    "start_time": "2024-12-03T11:52:28.127Z"
   },
   {
    "duration": 49,
    "start_time": "2024-12-03T11:52:28.144Z"
   },
   {
    "duration": 40,
    "start_time": "2024-12-03T11:52:28.196Z"
   },
   {
    "duration": 10,
    "start_time": "2024-12-03T11:52:28.237Z"
   },
   {
    "duration": 12,
    "start_time": "2024-12-03T11:52:28.248Z"
   },
   {
    "duration": 9,
    "start_time": "2024-12-03T11:52:28.262Z"
   },
   {
    "duration": 3,
    "start_time": "2024-12-03T11:52:28.273Z"
   },
   {
    "duration": 31,
    "start_time": "2024-12-03T11:52:28.278Z"
   },
   {
    "duration": 10,
    "start_time": "2024-12-03T11:52:28.311Z"
   },
   {
    "duration": 18,
    "start_time": "2024-12-03T11:52:28.323Z"
   },
   {
    "duration": 11,
    "start_time": "2024-12-03T11:52:28.343Z"
   },
   {
    "duration": 10,
    "start_time": "2024-12-03T11:52:28.356Z"
   },
   {
    "duration": 25,
    "start_time": "2024-12-03T11:52:28.368Z"
   },
   {
    "duration": 11,
    "start_time": "2024-12-03T11:52:28.395Z"
   },
   {
    "duration": 5,
    "start_time": "2024-12-03T11:52:28.408Z"
   },
   {
    "duration": 40,
    "start_time": "2024-12-03T11:54:07.017Z"
   },
   {
    "duration": 435,
    "start_time": "2024-12-03T11:54:22.060Z"
   },
   {
    "duration": 181,
    "start_time": "2024-12-03T11:54:22.497Z"
   },
   {
    "duration": 17,
    "start_time": "2024-12-03T11:54:22.680Z"
   },
   {
    "duration": 37,
    "start_time": "2024-12-03T11:54:22.699Z"
   },
   {
    "duration": 3,
    "start_time": "2024-12-03T11:54:22.737Z"
   },
   {
    "duration": 5,
    "start_time": "2024-12-03T11:54:22.741Z"
   },
   {
    "duration": 12,
    "start_time": "2024-12-03T11:54:22.747Z"
   },
   {
    "duration": 4,
    "start_time": "2024-12-03T11:54:22.760Z"
   },
   {
    "duration": 47,
    "start_time": "2024-12-03T11:54:22.766Z"
   },
   {
    "duration": 21,
    "start_time": "2024-12-03T11:54:22.816Z"
   },
   {
    "duration": 27,
    "start_time": "2024-12-03T11:54:22.838Z"
   },
   {
    "duration": 91,
    "start_time": "2024-12-03T11:54:22.866Z"
   },
   {
    "duration": 96,
    "start_time": "2024-12-03T11:54:22.959Z"
   },
   {
    "duration": 70,
    "start_time": "2024-12-03T11:54:23.057Z"
   },
   {
    "duration": 10,
    "start_time": "2024-12-03T11:54:23.129Z"
   },
   {
    "duration": 13,
    "start_time": "2024-12-03T11:54:23.141Z"
   },
   {
    "duration": 11,
    "start_time": "2024-12-03T11:54:23.155Z"
   },
   {
    "duration": 47,
    "start_time": "2024-12-03T11:54:23.167Z"
   },
   {
    "duration": 38,
    "start_time": "2024-12-03T11:54:23.216Z"
   },
   {
    "duration": 3,
    "start_time": "2024-12-03T11:54:23.255Z"
   },
   {
    "duration": 41,
    "start_time": "2024-12-03T11:54:23.259Z"
   },
   {
    "duration": 16,
    "start_time": "2024-12-03T11:54:23.301Z"
   },
   {
    "duration": 15,
    "start_time": "2024-12-03T11:54:23.318Z"
   },
   {
    "duration": 13,
    "start_time": "2024-12-03T11:54:23.335Z"
   },
   {
    "duration": 45,
    "start_time": "2024-12-03T11:54:23.350Z"
   },
   {
    "duration": 15,
    "start_time": "2024-12-03T11:54:23.397Z"
   },
   {
    "duration": 8,
    "start_time": "2024-12-03T11:54:23.414Z"
   },
   {
    "duration": 18,
    "start_time": "2024-12-03T11:54:23.425Z"
   },
   {
    "duration": 10,
    "start_time": "2024-12-03T11:54:23.445Z"
   },
   {
    "duration": 4,
    "start_time": "2024-12-03T11:54:23.456Z"
   },
   {
    "duration": 44,
    "start_time": "2024-12-03T11:54:23.462Z"
   },
   {
    "duration": 11,
    "start_time": "2024-12-03T11:54:23.507Z"
   },
   {
    "duration": 20,
    "start_time": "2024-12-03T11:54:23.520Z"
   },
   {
    "duration": 12,
    "start_time": "2024-12-03T11:54:23.541Z"
   },
   {
    "duration": 8,
    "start_time": "2024-12-03T11:54:23.555Z"
   },
   {
    "duration": 5,
    "start_time": "2024-12-03T11:54:23.592Z"
   },
   {
    "duration": 7,
    "start_time": "2024-12-03T11:54:23.599Z"
   },
   {
    "duration": 4,
    "start_time": "2024-12-03T11:54:23.608Z"
   },
   {
    "duration": 425,
    "start_time": "2024-12-03T11:55:16.753Z"
   },
   {
    "duration": 181,
    "start_time": "2024-12-03T11:55:17.180Z"
   },
   {
    "duration": 18,
    "start_time": "2024-12-03T11:55:17.362Z"
   },
   {
    "duration": 38,
    "start_time": "2024-12-03T11:55:17.382Z"
   },
   {
    "duration": 3,
    "start_time": "2024-12-03T11:55:17.421Z"
   },
   {
    "duration": 7,
    "start_time": "2024-12-03T11:55:17.425Z"
   },
   {
    "duration": 11,
    "start_time": "2024-12-03T11:55:17.433Z"
   },
   {
    "duration": 8,
    "start_time": "2024-12-03T11:55:17.445Z"
   },
   {
    "duration": 54,
    "start_time": "2024-12-03T11:55:17.454Z"
   },
   {
    "duration": 22,
    "start_time": "2024-12-03T11:55:17.509Z"
   },
   {
    "duration": 28,
    "start_time": "2024-12-03T11:55:17.532Z"
   },
   {
    "duration": 95,
    "start_time": "2024-12-03T11:55:17.561Z"
   },
   {
    "duration": 88,
    "start_time": "2024-12-03T11:55:17.657Z"
   },
   {
    "duration": 73,
    "start_time": "2024-12-03T11:55:17.748Z"
   },
   {
    "duration": 10,
    "start_time": "2024-12-03T11:55:17.822Z"
   },
   {
    "duration": 15,
    "start_time": "2024-12-03T11:55:17.833Z"
   },
   {
    "duration": 11,
    "start_time": "2024-12-03T11:55:17.850Z"
   },
   {
    "duration": 50,
    "start_time": "2024-12-03T11:55:17.862Z"
   },
   {
    "duration": 41,
    "start_time": "2024-12-03T11:55:17.914Z"
   },
   {
    "duration": 3,
    "start_time": "2024-12-03T11:55:17.957Z"
   },
   {
    "duration": 40,
    "start_time": "2024-12-03T11:55:17.962Z"
   },
   {
    "duration": 15,
    "start_time": "2024-12-03T11:55:18.003Z"
   },
   {
    "duration": 16,
    "start_time": "2024-12-03T11:55:18.020Z"
   },
   {
    "duration": 15,
    "start_time": "2024-12-03T11:55:18.037Z"
   },
   {
    "duration": 46,
    "start_time": "2024-12-03T11:55:18.053Z"
   },
   {
    "duration": 16,
    "start_time": "2024-12-03T11:55:18.101Z"
   },
   {
    "duration": 9,
    "start_time": "2024-12-03T11:55:18.118Z"
   },
   {
    "duration": 17,
    "start_time": "2024-12-03T11:55:18.128Z"
   },
   {
    "duration": 10,
    "start_time": "2024-12-03T11:55:18.146Z"
   },
   {
    "duration": 21,
    "start_time": "2024-12-03T11:55:18.157Z"
   },
   {
    "duration": 66,
    "start_time": "2024-12-03T11:55:18.181Z"
   },
   {
    "duration": 11,
    "start_time": "2024-12-03T11:55:18.248Z"
   },
   {
    "duration": 18,
    "start_time": "2024-12-03T11:55:18.261Z"
   },
   {
    "duration": 16,
    "start_time": "2024-12-03T11:55:18.281Z"
   },
   {
    "duration": 8,
    "start_time": "2024-12-03T11:55:18.299Z"
   },
   {
    "duration": 4,
    "start_time": "2024-12-03T11:55:18.309Z"
   },
   {
    "duration": 17,
    "start_time": "2024-12-03T11:55:18.315Z"
   },
   {
    "duration": 21,
    "start_time": "2024-12-03T11:55:18.333Z"
   },
   {
    "duration": 42,
    "start_time": "2024-12-03T11:55:28.070Z"
   },
   {
    "duration": 14,
    "start_time": "2024-12-03T11:56:01.256Z"
   },
   {
    "duration": 434,
    "start_time": "2024-12-03T11:56:07.371Z"
   },
   {
    "duration": 192,
    "start_time": "2024-12-03T11:56:07.807Z"
   },
   {
    "duration": 17,
    "start_time": "2024-12-03T11:56:08.001Z"
   },
   {
    "duration": 33,
    "start_time": "2024-12-03T11:56:08.019Z"
   },
   {
    "duration": 16,
    "start_time": "2024-12-03T11:56:08.055Z"
   },
   {
    "duration": 10,
    "start_time": "2024-12-03T11:56:08.072Z"
   },
   {
    "duration": 14,
    "start_time": "2024-12-03T11:56:08.084Z"
   },
   {
    "duration": 10,
    "start_time": "2024-12-03T11:56:08.099Z"
   },
   {
    "duration": 43,
    "start_time": "2024-12-03T11:56:08.110Z"
   },
   {
    "duration": 36,
    "start_time": "2024-12-03T11:56:08.154Z"
   },
   {
    "duration": 64,
    "start_time": "2024-12-03T11:56:08.193Z"
   },
   {
    "duration": 74,
    "start_time": "2024-12-03T11:56:08.259Z"
   },
   {
    "duration": 97,
    "start_time": "2024-12-03T11:56:08.334Z"
   },
   {
    "duration": 106,
    "start_time": "2024-12-03T11:56:08.435Z"
   },
   {
    "duration": 10,
    "start_time": "2024-12-03T11:56:08.543Z"
   },
   {
    "duration": 33,
    "start_time": "2024-12-03T11:56:08.554Z"
   },
   {
    "duration": 9,
    "start_time": "2024-12-03T11:56:08.589Z"
   },
   {
    "duration": 26,
    "start_time": "2024-12-03T11:56:08.599Z"
   },
   {
    "duration": 14,
    "start_time": "2024-12-03T11:56:08.627Z"
   },
   {
    "duration": 3,
    "start_time": "2024-12-03T11:56:08.643Z"
   },
   {
    "duration": 22,
    "start_time": "2024-12-03T11:56:08.647Z"
   },
   {
    "duration": 36,
    "start_time": "2024-12-03T11:56:08.670Z"
   },
   {
    "duration": 16,
    "start_time": "2024-12-03T11:56:08.708Z"
   },
   {
    "duration": 15,
    "start_time": "2024-12-03T11:56:08.726Z"
   },
   {
    "duration": 31,
    "start_time": "2024-12-03T11:56:08.742Z"
   },
   {
    "duration": 24,
    "start_time": "2024-12-03T11:56:08.774Z"
   },
   {
    "duration": 9,
    "start_time": "2024-12-03T11:56:08.799Z"
   },
   {
    "duration": 18,
    "start_time": "2024-12-03T11:56:08.810Z"
   },
   {
    "duration": 11,
    "start_time": "2024-12-03T11:56:08.829Z"
   },
   {
    "duration": 5,
    "start_time": "2024-12-03T11:56:08.842Z"
   },
   {
    "duration": 44,
    "start_time": "2024-12-03T11:56:08.849Z"
   },
   {
    "duration": 12,
    "start_time": "2024-12-03T11:56:08.896Z"
   },
   {
    "duration": 66,
    "start_time": "2024-12-03T11:56:08.910Z"
   },
   {
    "duration": 12,
    "start_time": "2024-12-03T11:56:08.977Z"
   },
   {
    "duration": 9,
    "start_time": "2024-12-03T11:56:08.991Z"
   },
   {
    "duration": 4,
    "start_time": "2024-12-03T11:56:09.002Z"
   },
   {
    "duration": 25,
    "start_time": "2024-12-03T11:56:09.007Z"
   },
   {
    "duration": 4,
    "start_time": "2024-12-03T11:56:09.034Z"
   },
   {
    "duration": 25,
    "start_time": "2024-12-03T11:57:58.304Z"
   },
   {
    "duration": 407,
    "start_time": "2024-12-03T11:58:05.302Z"
   },
   {
    "duration": 190,
    "start_time": "2024-12-03T11:58:05.711Z"
   },
   {
    "duration": 18,
    "start_time": "2024-12-03T11:58:05.902Z"
   },
   {
    "duration": 39,
    "start_time": "2024-12-03T11:58:05.921Z"
   },
   {
    "duration": 8,
    "start_time": "2024-12-03T11:58:05.963Z"
   },
   {
    "duration": 34,
    "start_time": "2024-12-03T11:58:05.973Z"
   },
   {
    "duration": 19,
    "start_time": "2024-12-03T11:58:06.009Z"
   },
   {
    "duration": 19,
    "start_time": "2024-12-03T11:58:06.030Z"
   },
   {
    "duration": 52,
    "start_time": "2024-12-03T11:58:06.050Z"
   },
   {
    "duration": 23,
    "start_time": "2024-12-03T11:58:06.104Z"
   },
   {
    "duration": 38,
    "start_time": "2024-12-03T11:58:06.129Z"
   },
   {
    "duration": 123,
    "start_time": "2024-12-03T11:58:06.168Z"
   },
   {
    "duration": 83,
    "start_time": "2024-12-03T11:58:06.293Z"
   },
   {
    "duration": 73,
    "start_time": "2024-12-03T11:58:06.380Z"
   },
   {
    "duration": 10,
    "start_time": "2024-12-03T11:58:06.455Z"
   },
   {
    "duration": 32,
    "start_time": "2024-12-03T11:58:06.467Z"
   },
   {
    "duration": 18,
    "start_time": "2024-12-03T11:58:06.500Z"
   },
   {
    "duration": 58,
    "start_time": "2024-12-03T11:58:06.520Z"
   },
   {
    "duration": 64,
    "start_time": "2024-12-03T11:58:06.580Z"
   },
   {
    "duration": 0,
    "start_time": "2024-12-03T11:58:06.645Z"
   },
   {
    "duration": 0,
    "start_time": "2024-12-03T11:58:06.647Z"
   },
   {
    "duration": 0,
    "start_time": "2024-12-03T11:58:06.648Z"
   },
   {
    "duration": 0,
    "start_time": "2024-12-03T11:58:06.649Z"
   },
   {
    "duration": 0,
    "start_time": "2024-12-03T11:58:06.650Z"
   },
   {
    "duration": 0,
    "start_time": "2024-12-03T11:58:06.650Z"
   },
   {
    "duration": 0,
    "start_time": "2024-12-03T11:58:06.652Z"
   },
   {
    "duration": 0,
    "start_time": "2024-12-03T11:58:06.653Z"
   },
   {
    "duration": 0,
    "start_time": "2024-12-03T11:58:06.654Z"
   },
   {
    "duration": 0,
    "start_time": "2024-12-03T11:58:06.655Z"
   },
   {
    "duration": 0,
    "start_time": "2024-12-03T11:58:06.656Z"
   },
   {
    "duration": 0,
    "start_time": "2024-12-03T11:58:06.657Z"
   },
   {
    "duration": 0,
    "start_time": "2024-12-03T11:58:06.658Z"
   },
   {
    "duration": 0,
    "start_time": "2024-12-03T11:58:06.659Z"
   },
   {
    "duration": 0,
    "start_time": "2024-12-03T11:58:06.660Z"
   },
   {
    "duration": 0,
    "start_time": "2024-12-03T11:58:06.661Z"
   },
   {
    "duration": 0,
    "start_time": "2024-12-03T11:58:06.662Z"
   },
   {
    "duration": 0,
    "start_time": "2024-12-03T11:58:06.692Z"
   },
   {
    "duration": 0,
    "start_time": "2024-12-03T11:58:06.693Z"
   },
   {
    "duration": 3,
    "start_time": "2024-12-03T12:00:00.005Z"
   },
   {
    "duration": 26,
    "start_time": "2024-12-03T12:00:04.342Z"
   },
   {
    "duration": 422,
    "start_time": "2024-12-03T12:00:09.789Z"
   },
   {
    "duration": 192,
    "start_time": "2024-12-03T12:00:10.213Z"
   },
   {
    "duration": 18,
    "start_time": "2024-12-03T12:00:10.407Z"
   },
   {
    "duration": 43,
    "start_time": "2024-12-03T12:00:10.427Z"
   },
   {
    "duration": 3,
    "start_time": "2024-12-03T12:00:10.491Z"
   },
   {
    "duration": 4,
    "start_time": "2024-12-03T12:00:10.496Z"
   },
   {
    "duration": 12,
    "start_time": "2024-12-03T12:00:10.502Z"
   },
   {
    "duration": 30,
    "start_time": "2024-12-03T12:00:10.516Z"
   },
   {
    "duration": 48,
    "start_time": "2024-12-03T12:00:10.548Z"
   },
   {
    "duration": 27,
    "start_time": "2024-12-03T12:00:10.597Z"
   },
   {
    "duration": 44,
    "start_time": "2024-12-03T12:00:10.625Z"
   },
   {
    "duration": 90,
    "start_time": "2024-12-03T12:00:10.671Z"
   },
   {
    "duration": 90,
    "start_time": "2024-12-03T12:00:10.762Z"
   },
   {
    "duration": 74,
    "start_time": "2024-12-03T12:00:10.855Z"
   },
   {
    "duration": 10,
    "start_time": "2024-12-03T12:00:10.930Z"
   },
   {
    "duration": 52,
    "start_time": "2024-12-03T12:00:10.942Z"
   },
   {
    "duration": 10,
    "start_time": "2024-12-03T12:00:10.995Z"
   },
   {
    "duration": 27,
    "start_time": "2024-12-03T12:00:11.007Z"
   },
   {
    "duration": 72,
    "start_time": "2024-12-03T12:00:11.036Z"
   },
   {
    "duration": 0,
    "start_time": "2024-12-03T12:00:11.109Z"
   },
   {
    "duration": 0,
    "start_time": "2024-12-03T12:00:11.111Z"
   },
   {
    "duration": 0,
    "start_time": "2024-12-03T12:00:11.112Z"
   },
   {
    "duration": 0,
    "start_time": "2024-12-03T12:00:11.114Z"
   },
   {
    "duration": 0,
    "start_time": "2024-12-03T12:00:11.115Z"
   },
   {
    "duration": 0,
    "start_time": "2024-12-03T12:00:11.116Z"
   },
   {
    "duration": 0,
    "start_time": "2024-12-03T12:00:11.117Z"
   },
   {
    "duration": 0,
    "start_time": "2024-12-03T12:00:11.118Z"
   },
   {
    "duration": 0,
    "start_time": "2024-12-03T12:00:11.119Z"
   },
   {
    "duration": 0,
    "start_time": "2024-12-03T12:00:11.120Z"
   },
   {
    "duration": 0,
    "start_time": "2024-12-03T12:00:11.121Z"
   },
   {
    "duration": 0,
    "start_time": "2024-12-03T12:00:11.122Z"
   },
   {
    "duration": 0,
    "start_time": "2024-12-03T12:00:11.123Z"
   },
   {
    "duration": 0,
    "start_time": "2024-12-03T12:00:11.124Z"
   },
   {
    "duration": 0,
    "start_time": "2024-12-03T12:00:11.125Z"
   },
   {
    "duration": 0,
    "start_time": "2024-12-03T12:00:11.126Z"
   },
   {
    "duration": 0,
    "start_time": "2024-12-03T12:00:11.127Z"
   },
   {
    "duration": 0,
    "start_time": "2024-12-03T12:00:11.128Z"
   },
   {
    "duration": 0,
    "start_time": "2024-12-03T12:00:11.129Z"
   },
   {
    "duration": 33,
    "start_time": "2024-12-03T12:01:11.013Z"
   },
   {
    "duration": 24,
    "start_time": "2024-12-03T12:01:15.717Z"
   },
   {
    "duration": 19,
    "start_time": "2024-12-03T12:01:42.838Z"
   },
   {
    "duration": 20,
    "start_time": "2024-12-03T12:02:07.645Z"
   },
   {
    "duration": 42,
    "start_time": "2024-12-03T12:02:16.558Z"
   },
   {
    "duration": 31,
    "start_time": "2024-12-03T12:02:23.060Z"
   },
   {
    "duration": 372,
    "start_time": "2024-12-03T12:02:27.537Z"
   },
   {
    "duration": 186,
    "start_time": "2024-12-03T12:02:27.910Z"
   },
   {
    "duration": 17,
    "start_time": "2024-12-03T12:02:28.097Z"
   },
   {
    "duration": 35,
    "start_time": "2024-12-03T12:02:28.115Z"
   },
   {
    "duration": 3,
    "start_time": "2024-12-03T12:02:28.152Z"
   },
   {
    "duration": 5,
    "start_time": "2024-12-03T12:02:28.156Z"
   },
   {
    "duration": 33,
    "start_time": "2024-12-03T12:02:28.163Z"
   },
   {
    "duration": 51,
    "start_time": "2024-12-03T12:02:28.199Z"
   },
   {
    "duration": 30,
    "start_time": "2024-12-03T12:02:28.252Z"
   },
   {
    "duration": 21,
    "start_time": "2024-12-03T12:02:28.284Z"
   },
   {
    "duration": 26,
    "start_time": "2024-12-03T12:02:28.307Z"
   },
   {
    "duration": 73,
    "start_time": "2024-12-03T12:02:28.334Z"
   },
   {
    "duration": 89,
    "start_time": "2024-12-03T12:02:28.408Z"
   },
   {
    "duration": 61,
    "start_time": "2024-12-03T12:02:28.501Z"
   },
   {
    "duration": 9,
    "start_time": "2024-12-03T12:02:28.564Z"
   },
   {
    "duration": 30,
    "start_time": "2024-12-03T12:02:28.575Z"
   },
   {
    "duration": 11,
    "start_time": "2024-12-03T12:02:28.606Z"
   },
   {
    "duration": 46,
    "start_time": "2024-12-03T12:02:28.619Z"
   },
   {
    "duration": 43,
    "start_time": "2024-12-03T12:02:28.666Z"
   },
   {
    "duration": 3,
    "start_time": "2024-12-03T12:02:28.711Z"
   },
   {
    "duration": 30,
    "start_time": "2024-12-03T12:02:28.715Z"
   },
   {
    "duration": 14,
    "start_time": "2024-12-03T12:02:28.747Z"
   },
   {
    "duration": 29,
    "start_time": "2024-12-03T12:02:28.763Z"
   },
   {
    "duration": 15,
    "start_time": "2024-12-03T12:02:28.794Z"
   },
   {
    "duration": 18,
    "start_time": "2024-12-03T12:02:28.811Z"
   },
   {
    "duration": 17,
    "start_time": "2024-12-03T12:02:28.831Z"
   },
   {
    "duration": 8,
    "start_time": "2024-12-03T12:02:28.850Z"
   },
   {
    "duration": 12,
    "start_time": "2024-12-03T12:02:28.893Z"
   },
   {
    "duration": 11,
    "start_time": "2024-12-03T12:02:28.907Z"
   },
   {
    "duration": 4,
    "start_time": "2024-12-03T12:02:28.920Z"
   },
   {
    "duration": 63,
    "start_time": "2024-12-03T12:02:28.926Z"
   },
   {
    "duration": 48,
    "start_time": "2024-12-03T12:02:28.991Z"
   },
   {
    "duration": 20,
    "start_time": "2024-12-03T12:02:29.041Z"
   },
   {
    "duration": 13,
    "start_time": "2024-12-03T12:02:29.062Z"
   },
   {
    "duration": 16,
    "start_time": "2024-12-03T12:02:29.076Z"
   },
   {
    "duration": 9,
    "start_time": "2024-12-03T12:02:29.094Z"
   },
   {
    "duration": 7,
    "start_time": "2024-12-03T12:02:29.105Z"
   },
   {
    "duration": 4,
    "start_time": "2024-12-03T12:02:29.114Z"
   },
   {
    "duration": 36,
    "start_time": "2024-12-03T12:02:59.338Z"
   },
   {
    "duration": 12,
    "start_time": "2024-12-03T12:03:24.984Z"
   },
   {
    "duration": 431,
    "start_time": "2024-12-03T12:03:33.577Z"
   },
   {
    "duration": 189,
    "start_time": "2024-12-03T12:03:34.011Z"
   },
   {
    "duration": 18,
    "start_time": "2024-12-03T12:03:34.202Z"
   },
   {
    "duration": 65,
    "start_time": "2024-12-03T12:03:34.222Z"
   },
   {
    "duration": 31,
    "start_time": "2024-12-03T12:03:34.290Z"
   },
   {
    "duration": 17,
    "start_time": "2024-12-03T12:03:34.323Z"
   },
   {
    "duration": 19,
    "start_time": "2024-12-03T12:03:34.342Z"
   },
   {
    "duration": 22,
    "start_time": "2024-12-03T12:03:34.363Z"
   },
   {
    "duration": 64,
    "start_time": "2024-12-03T12:03:34.387Z"
   },
   {
    "duration": 23,
    "start_time": "2024-12-03T12:03:34.453Z"
   },
   {
    "duration": 28,
    "start_time": "2024-12-03T12:03:34.478Z"
   },
   {
    "duration": 97,
    "start_time": "2024-12-03T12:03:34.508Z"
   },
   {
    "duration": 93,
    "start_time": "2024-12-03T12:03:34.607Z"
   },
   {
    "duration": 63,
    "start_time": "2024-12-03T12:03:34.705Z"
   },
   {
    "duration": 23,
    "start_time": "2024-12-03T12:03:34.770Z"
   },
   {
    "duration": 18,
    "start_time": "2024-12-03T12:03:34.794Z"
   },
   {
    "duration": 16,
    "start_time": "2024-12-03T12:03:34.813Z"
   },
   {
    "duration": 61,
    "start_time": "2024-12-03T12:03:34.831Z"
   },
   {
    "duration": 12,
    "start_time": "2024-12-03T12:03:34.894Z"
   },
   {
    "duration": 3,
    "start_time": "2024-12-03T12:03:34.907Z"
   },
   {
    "duration": 46,
    "start_time": "2024-12-03T12:03:34.912Z"
   },
   {
    "duration": 58,
    "start_time": "2024-12-03T12:03:34.959Z"
   },
   {
    "duration": 17,
    "start_time": "2024-12-03T12:03:35.018Z"
   },
   {
    "duration": 15,
    "start_time": "2024-12-03T12:03:35.036Z"
   },
   {
    "duration": 20,
    "start_time": "2024-12-03T12:03:35.052Z"
   },
   {
    "duration": 32,
    "start_time": "2024-12-03T12:03:35.073Z"
   },
   {
    "duration": 8,
    "start_time": "2024-12-03T12:03:35.107Z"
   },
   {
    "duration": 34,
    "start_time": "2024-12-03T12:03:35.117Z"
   },
   {
    "duration": 15,
    "start_time": "2024-12-03T12:03:35.152Z"
   },
   {
    "duration": 15,
    "start_time": "2024-12-03T12:03:35.169Z"
   },
   {
    "duration": 47,
    "start_time": "2024-12-03T12:03:35.186Z"
   },
   {
    "duration": 25,
    "start_time": "2024-12-03T12:03:35.235Z"
   },
   {
    "duration": 30,
    "start_time": "2024-12-03T12:03:35.262Z"
   },
   {
    "duration": 26,
    "start_time": "2024-12-03T12:03:35.294Z"
   },
   {
    "duration": 9,
    "start_time": "2024-12-03T12:03:35.322Z"
   },
   {
    "duration": 41,
    "start_time": "2024-12-03T12:03:35.332Z"
   },
   {
    "duration": 22,
    "start_time": "2024-12-03T12:03:35.374Z"
   },
   {
    "duration": 7,
    "start_time": "2024-12-03T12:03:35.398Z"
   },
   {
    "duration": 377,
    "start_time": "2024-12-03T12:06:20.725Z"
   },
   {
    "duration": 185,
    "start_time": "2024-12-03T12:06:21.104Z"
   },
   {
    "duration": 17,
    "start_time": "2024-12-03T12:06:21.290Z"
   },
   {
    "duration": 31,
    "start_time": "2024-12-03T12:06:21.309Z"
   },
   {
    "duration": 5,
    "start_time": "2024-12-03T12:06:21.342Z"
   },
   {
    "duration": 14,
    "start_time": "2024-12-03T12:06:21.348Z"
   },
   {
    "duration": 15,
    "start_time": "2024-12-03T12:06:21.363Z"
   },
   {
    "duration": 15,
    "start_time": "2024-12-03T12:06:21.379Z"
   },
   {
    "duration": 30,
    "start_time": "2024-12-03T12:06:21.396Z"
   },
   {
    "duration": 23,
    "start_time": "2024-12-03T12:06:21.428Z"
   },
   {
    "duration": 44,
    "start_time": "2024-12-03T12:06:21.453Z"
   },
   {
    "duration": 85,
    "start_time": "2024-12-03T12:06:21.499Z"
   },
   {
    "duration": 84,
    "start_time": "2024-12-03T12:06:21.585Z"
   },
   {
    "duration": 60,
    "start_time": "2024-12-03T12:06:21.673Z"
   },
   {
    "duration": 10,
    "start_time": "2024-12-03T12:06:21.735Z"
   },
   {
    "duration": 12,
    "start_time": "2024-12-03T12:06:21.746Z"
   },
   {
    "duration": 9,
    "start_time": "2024-12-03T12:06:21.760Z"
   },
   {
    "duration": 60,
    "start_time": "2024-12-03T12:06:21.770Z"
   },
   {
    "duration": 12,
    "start_time": "2024-12-03T12:06:21.831Z"
   },
   {
    "duration": 3,
    "start_time": "2024-12-03T12:06:21.845Z"
   },
   {
    "duration": 54,
    "start_time": "2024-12-03T12:06:21.849Z"
   },
   {
    "duration": 16,
    "start_time": "2024-12-03T12:06:21.905Z"
   },
   {
    "duration": 70,
    "start_time": "2024-12-03T12:06:21.922Z"
   },
   {
    "duration": 15,
    "start_time": "2024-12-03T12:06:21.994Z"
   },
   {
    "duration": 18,
    "start_time": "2024-12-03T12:06:22.011Z"
   },
   {
    "duration": 14,
    "start_time": "2024-12-03T12:06:22.031Z"
   },
   {
    "duration": 7,
    "start_time": "2024-12-03T12:06:22.047Z"
   },
   {
    "duration": 14,
    "start_time": "2024-12-03T12:06:22.056Z"
   },
   {
    "duration": 26,
    "start_time": "2024-12-03T12:06:22.072Z"
   },
   {
    "duration": 4,
    "start_time": "2024-12-03T12:06:22.100Z"
   },
   {
    "duration": 20,
    "start_time": "2024-12-03T12:06:22.105Z"
   },
   {
    "duration": 11,
    "start_time": "2024-12-03T12:06:22.127Z"
   },
   {
    "duration": 19,
    "start_time": "2024-12-03T12:06:22.192Z"
   },
   {
    "duration": 54,
    "start_time": "2024-12-03T12:06:22.212Z"
   },
   {
    "duration": 8,
    "start_time": "2024-12-03T12:06:22.268Z"
   },
   {
    "duration": 5,
    "start_time": "2024-12-03T12:06:22.277Z"
   },
   {
    "duration": 6,
    "start_time": "2024-12-03T12:06:22.284Z"
   },
   {
    "duration": 11,
    "start_time": "2024-12-03T12:06:22.291Z"
   },
   {
    "duration": 418,
    "start_time": "2024-12-03T12:06:54.176Z"
   },
   {
    "duration": 178,
    "start_time": "2024-12-03T12:06:54.596Z"
   },
   {
    "duration": 16,
    "start_time": "2024-12-03T12:06:54.776Z"
   },
   {
    "duration": 33,
    "start_time": "2024-12-03T12:06:54.793Z"
   },
   {
    "duration": 5,
    "start_time": "2024-12-03T12:06:54.828Z"
   },
   {
    "duration": 5,
    "start_time": "2024-12-03T12:06:54.835Z"
   },
   {
    "duration": 14,
    "start_time": "2024-12-03T12:06:54.842Z"
   },
   {
    "duration": 24,
    "start_time": "2024-12-03T12:06:54.857Z"
   },
   {
    "duration": 32,
    "start_time": "2024-12-03T12:06:54.882Z"
   },
   {
    "duration": 20,
    "start_time": "2024-12-03T12:06:54.915Z"
   },
   {
    "duration": 27,
    "start_time": "2024-12-03T12:06:54.937Z"
   },
   {
    "duration": 89,
    "start_time": "2024-12-03T12:06:54.965Z"
   },
   {
    "duration": 83,
    "start_time": "2024-12-03T12:06:55.055Z"
   },
   {
    "duration": 80,
    "start_time": "2024-12-03T12:06:55.143Z"
   },
   {
    "duration": 9,
    "start_time": "2024-12-03T12:06:55.225Z"
   },
   {
    "duration": 11,
    "start_time": "2024-12-03T12:06:55.235Z"
   },
   {
    "duration": 15,
    "start_time": "2024-12-03T12:06:55.247Z"
   },
   {
    "duration": 65,
    "start_time": "2024-12-03T12:06:55.264Z"
   },
   {
    "duration": 13,
    "start_time": "2024-12-03T12:06:55.330Z"
   },
   {
    "duration": 3,
    "start_time": "2024-12-03T12:06:55.345Z"
   },
   {
    "duration": 19,
    "start_time": "2024-12-03T12:06:55.349Z"
   },
   {
    "duration": 36,
    "start_time": "2024-12-03T12:06:55.369Z"
   },
   {
    "duration": 14,
    "start_time": "2024-12-03T12:06:55.407Z"
   },
   {
    "duration": 13,
    "start_time": "2024-12-03T12:06:55.423Z"
   },
   {
    "duration": 17,
    "start_time": "2024-12-03T12:06:55.438Z"
   },
   {
    "duration": 15,
    "start_time": "2024-12-03T12:06:55.456Z"
   },
   {
    "duration": 21,
    "start_time": "2024-12-03T12:06:55.472Z"
   },
   {
    "duration": 27,
    "start_time": "2024-12-03T12:06:55.495Z"
   },
   {
    "duration": 10,
    "start_time": "2024-12-03T12:06:55.523Z"
   },
   {
    "duration": 4,
    "start_time": "2024-12-03T12:06:55.535Z"
   },
   {
    "duration": 21,
    "start_time": "2024-12-03T12:06:55.540Z"
   },
   {
    "duration": 11,
    "start_time": "2024-12-03T12:06:55.562Z"
   },
   {
    "duration": 18,
    "start_time": "2024-12-03T12:06:55.575Z"
   },
   {
    "duration": 12,
    "start_time": "2024-12-03T12:06:55.595Z"
   },
   {
    "duration": 9,
    "start_time": "2024-12-03T12:06:55.608Z"
   },
   {
    "duration": 13,
    "start_time": "2024-12-03T12:06:55.618Z"
   },
   {
    "duration": 7,
    "start_time": "2024-12-03T12:06:55.633Z"
   },
   {
    "duration": 4,
    "start_time": "2024-12-03T12:06:55.641Z"
   }
  ],
  "celltoolbar": "Отсутствует",
  "colab": {
   "collapsed_sections": [
    "E0vqbgi9ay0H",
    "VUC88oWjTJw2"
   ],
   "provenance": []
  },
  "kernelspec": {
   "display_name": "Python 3 (ipykernel)",
   "language": "python",
   "name": "python3"
  },
  "language_info": {
   "codemirror_mode": {
    "name": "ipython",
    "version": 3
   },
   "file_extension": ".py",
   "mimetype": "text/x-python",
   "name": "python",
   "nbconvert_exporter": "python",
   "pygments_lexer": "ipython3",
   "version": "3.9.5"
  },
  "toc": {
   "base_numbering": 1,
   "nav_menu": {
    "height": "215px",
    "width": "403px"
   },
   "number_sections": true,
   "sideBar": true,
   "skip_h1_title": true,
   "title_cell": "Table of Contents",
   "title_sidebar": "Contents",
   "toc_cell": false,
   "toc_position": {
    "height": "calc(100% - 180px)",
    "left": "10px",
    "top": "150px",
    "width": "285.825px"
   },
   "toc_section_display": true,
   "toc_window_display": false
  }
 },
 "nbformat": 4,
 "nbformat_minor": 1
}
